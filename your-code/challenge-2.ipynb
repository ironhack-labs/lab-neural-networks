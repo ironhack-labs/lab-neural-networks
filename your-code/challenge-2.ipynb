{
 "cells": [
  {
   "cell_type": "markdown",
   "metadata": {},
   "source": [
    "# ![Ironhack logo](https://i.imgur.com/1QgrNNw.png)\n",
    "\n",
    "# # Challenge 2: Tensorflow Hyperparameter Tuning\n",
    "\n",
    "# ## Getting Started\n",
    "\n",
    "# From the lesson and Challenge 1 you should have noticed that understanding the concepts \n",
    "# in neural network analysis such as *learning rate*, *epoch*, *optimizer*, *loss function* \n",
    "# and so on is essential for you to optimize the neural network models you build. \n",
    "# \n",
    "# In this challenge you will study several learning pieces that discuss the hyperparameters in Tensorflow. \n",
    "\n",
    "# **[Neural Networks: Structure](https://developers.google.com/machine-learning/crash-course/introduction-to-neural-networks/anatomy)**\n",
    "\n",
    "# **[Understanding Deep Learning with TensorFlow Playground](https://medium.com/@andrewt3000/understanding-tensorflow-playground-c20cdb7a250b)**\n",
    "\n",
    "# After that, complete [this exercise](https://developers.google.com/machine-learning/crash-course/introduction-to-neural-networks/playground-exercises) \n",
    "# on tuning the Tensorflow hyperpamameters in the [Tensorflow Playground](https://playground.tensorflow.org/).\n",
    "\n",
    "# Finally, using what you have learned, try tuning the hyperparameters for the spiral dataset in order to reach training and test loss \n",
    "# <0.05 as shown in the following:\n",
    "\n",
    "# ![spiral output](challenge-2.png)\n",
    "\n",
    "# After you're done, submit a screenshot of your Playground including the following information:\n",
    "\n",
    "# * Epoch\n",
    "# * Learning rate\n",
    "# * Activation function\n",
    "# * Features included\n",
    "# * Hidden layers and neurons\n",
    "# * Test and training loss\n",
    "\n",
    "# **Do not google for the end solution!**\n"
   ]
  },
  {
   "cell_type": "code",
   "execution_count": null,
   "metadata": {
    "vscode": {
     "languageId": "plaintext"
    }
   },
   "outputs": [],
   "source": []
  }
 ],
 "metadata": {
  "language_info": {
   "name": "python"
  }
 },
 "nbformat": 4,
 "nbformat_minor": 2
}
