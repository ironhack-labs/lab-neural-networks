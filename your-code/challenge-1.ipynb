{
 "cells": [
  {
   "cell_type": "markdown",
   "metadata": {},
   "source": [
    "# Challenge 1 - Tic Tac Toe\n",
    "\n",
    "In this lab you will perform deep learning analysis on a dataset of playing [Tic Tac Toe](https://en.wikipedia.org/wiki/Tic-tac-toe).\n",
    "\n",
    "There are 9 grids in Tic Tac Toe that are coded as the following picture shows:\n",
    "\n",
    "![Tic Tac Toe Grids](tttboard.jpg)\n",
    "\n",
    "In the first 9 columns of the dataset you can find which marks (`x` or `o`) exist in the grids. If there is no mark in a certain grid, it is labeled as `b`. The last column is `class` which tells you whether Player X (who always moves first in Tic Tac Toe) wins in this configuration. Note that when `class` has the value `False`, it means either Player O wins the game or it ends up as a draw."
   ]
  },
  {
   "cell_type": "markdown",
   "metadata": {},
   "source": [
    "Follow the steps suggested below to conduct a neural network analysis using Tensorflow and Keras. You will build a deep learning model to predict whether Player X wins the game or not.\n",
    "\n",
    "## Step 1: Data Engineering\n",
    "\n",
    "This dataset is almost in the ready-to-use state so you do not need to worry about missing values and so on. Still, some simple data engineering is needed.\n",
    "\n",
    "1. Read `tic-tac-toe.csv` into a dataframe.\n",
    "1. Inspect the dataset. Determine if the dataset is reliable by eyeballing the data.\n",
    "1. Convert the categorical values to numeric in all columns.\n",
    "1. Separate the inputs and output.\n",
    "1. Normalize the input data."
   ]
  },
  {
   "cell_type": "markdown",
   "metadata": {},
   "source": [
    "# Inspection"
   ]
  },
  {
   "cell_type": "code",
   "execution_count": 412,
   "metadata": {},
   "outputs": [],
   "source": [
    "import pandas as pd\n",
    "import numpy as np"
   ]
  },
  {
   "cell_type": "code",
   "execution_count": 413,
   "metadata": {},
   "outputs": [
    {
     "data": {
      "text/html": [
       "<div>\n",
       "<style scoped>\n",
       "    .dataframe tbody tr th:only-of-type {\n",
       "        vertical-align: middle;\n",
       "    }\n",
       "\n",
       "    .dataframe tbody tr th {\n",
       "        vertical-align: top;\n",
       "    }\n",
       "\n",
       "    .dataframe thead th {\n",
       "        text-align: right;\n",
       "    }\n",
       "</style>\n",
       "<table border=\"1\" class=\"dataframe\">\n",
       "  <thead>\n",
       "    <tr style=\"text-align: right;\">\n",
       "      <th></th>\n",
       "      <th>TL</th>\n",
       "      <th>TM</th>\n",
       "      <th>TR</th>\n",
       "      <th>ML</th>\n",
       "      <th>MM</th>\n",
       "      <th>MR</th>\n",
       "      <th>BL</th>\n",
       "      <th>BM</th>\n",
       "      <th>BR</th>\n",
       "      <th>class</th>\n",
       "    </tr>\n",
       "  </thead>\n",
       "  <tbody>\n",
       "    <tr>\n",
       "      <th>0</th>\n",
       "      <td>x</td>\n",
       "      <td>x</td>\n",
       "      <td>x</td>\n",
       "      <td>x</td>\n",
       "      <td>o</td>\n",
       "      <td>o</td>\n",
       "      <td>x</td>\n",
       "      <td>o</td>\n",
       "      <td>o</td>\n",
       "      <td>True</td>\n",
       "    </tr>\n",
       "    <tr>\n",
       "      <th>1</th>\n",
       "      <td>x</td>\n",
       "      <td>x</td>\n",
       "      <td>x</td>\n",
       "      <td>x</td>\n",
       "      <td>o</td>\n",
       "      <td>o</td>\n",
       "      <td>o</td>\n",
       "      <td>x</td>\n",
       "      <td>o</td>\n",
       "      <td>True</td>\n",
       "    </tr>\n",
       "    <tr>\n",
       "      <th>2</th>\n",
       "      <td>x</td>\n",
       "      <td>x</td>\n",
       "      <td>x</td>\n",
       "      <td>x</td>\n",
       "      <td>o</td>\n",
       "      <td>o</td>\n",
       "      <td>o</td>\n",
       "      <td>o</td>\n",
       "      <td>x</td>\n",
       "      <td>True</td>\n",
       "    </tr>\n",
       "    <tr>\n",
       "      <th>3</th>\n",
       "      <td>x</td>\n",
       "      <td>x</td>\n",
       "      <td>x</td>\n",
       "      <td>x</td>\n",
       "      <td>o</td>\n",
       "      <td>o</td>\n",
       "      <td>o</td>\n",
       "      <td>b</td>\n",
       "      <td>b</td>\n",
       "      <td>True</td>\n",
       "    </tr>\n",
       "    <tr>\n",
       "      <th>4</th>\n",
       "      <td>x</td>\n",
       "      <td>x</td>\n",
       "      <td>x</td>\n",
       "      <td>x</td>\n",
       "      <td>o</td>\n",
       "      <td>o</td>\n",
       "      <td>b</td>\n",
       "      <td>o</td>\n",
       "      <td>b</td>\n",
       "      <td>True</td>\n",
       "    </tr>\n",
       "  </tbody>\n",
       "</table>\n",
       "</div>"
      ],
      "text/plain": [
       "  TL TM TR ML MM MR BL BM BR  class\n",
       "0  x  x  x  x  o  o  x  o  o   True\n",
       "1  x  x  x  x  o  o  o  x  o   True\n",
       "2  x  x  x  x  o  o  o  o  x   True\n",
       "3  x  x  x  x  o  o  o  b  b   True\n",
       "4  x  x  x  x  o  o  b  o  b   True"
      ]
     },
     "execution_count": 413,
     "metadata": {},
     "output_type": "execute_result"
    }
   ],
   "source": [
    "tictactoe = pd.read_csv('tic-tac-toe.csv')\n",
    "tictactoe.head()"
   ]
  },
  {
   "cell_type": "code",
   "execution_count": 414,
   "metadata": {},
   "outputs": [
    {
     "data": {
      "text/plain": [
       "<bound method NDFrame.describe of     TL TM TR ML MM MR BL BM BR  class\n",
       "0    x  x  x  x  o  o  x  o  o   True\n",
       "1    x  x  x  x  o  o  o  x  o   True\n",
       "2    x  x  x  x  o  o  o  o  x   True\n",
       "3    x  x  x  x  o  o  o  b  b   True\n",
       "4    x  x  x  x  o  o  b  o  b   True\n",
       "..  .. .. .. .. .. .. .. .. ..    ...\n",
       "953  o  x  x  x  o  o  o  x  x  False\n",
       "954  o  x  o  x  x  o  x  o  x  False\n",
       "955  o  x  o  x  o  x  x  o  x  False\n",
       "956  o  x  o  o  x  x  x  o  x  False\n",
       "957  o  o  x  x  x  o  o  x  x  False\n",
       "\n",
       "[958 rows x 10 columns]>"
      ]
     },
     "execution_count": 414,
     "metadata": {},
     "output_type": "execute_result"
    }
   ],
   "source": [
    "tictactoe.describe"
   ]
  },
  {
   "cell_type": "code",
   "execution_count": 415,
   "metadata": {},
   "outputs": [
    {
     "data": {
      "text/plain": [
       "TL       0\n",
       "TM       0\n",
       "TR       0\n",
       "ML       0\n",
       "MM       0\n",
       "MR       0\n",
       "BL       0\n",
       "BM       0\n",
       "BR       0\n",
       "class    0\n",
       "dtype: int64"
      ]
     },
     "execution_count": 415,
     "metadata": {},
     "output_type": "execute_result"
    }
   ],
   "source": [
    "tictactoe.isnull().sum()"
   ]
  },
  {
   "cell_type": "code",
   "execution_count": 416,
   "metadata": {},
   "outputs": [
    {
     "data": {
      "text/plain": [
       "Index(['TL', 'TM', 'TR', 'ML', 'MM', 'MR', 'BL', 'BM', 'BR', 'class'], dtype='object')"
      ]
     },
     "execution_count": 416,
     "metadata": {},
     "output_type": "execute_result"
    }
   ],
   "source": [
    "tictactoe.columns"
   ]
  },
  {
   "cell_type": "markdown",
   "metadata": {},
   "source": [
    "# Transfer into numeric values"
   ]
  },
  {
   "cell_type": "code",
   "execution_count": 417,
   "metadata": {},
   "outputs": [
    {
     "data": {
      "text/html": [
       "<div>\n",
       "<style scoped>\n",
       "    .dataframe tbody tr th:only-of-type {\n",
       "        vertical-align: middle;\n",
       "    }\n",
       "\n",
       "    .dataframe tbody tr th {\n",
       "        vertical-align: top;\n",
       "    }\n",
       "\n",
       "    .dataframe thead th {\n",
       "        text-align: right;\n",
       "    }\n",
       "</style>\n",
       "<table border=\"1\" class=\"dataframe\">\n",
       "  <thead>\n",
       "    <tr style=\"text-align: right;\">\n",
       "      <th></th>\n",
       "      <th>TL</th>\n",
       "      <th>TM</th>\n",
       "      <th>TR</th>\n",
       "      <th>ML</th>\n",
       "      <th>MM</th>\n",
       "      <th>MR</th>\n",
       "      <th>BL</th>\n",
       "      <th>BM</th>\n",
       "      <th>BR</th>\n",
       "      <th>class</th>\n",
       "    </tr>\n",
       "  </thead>\n",
       "  <tbody>\n",
       "    <tr>\n",
       "      <th>0</th>\n",
       "      <td>2</td>\n",
       "      <td>2</td>\n",
       "      <td>2</td>\n",
       "      <td>2</td>\n",
       "      <td>1</td>\n",
       "      <td>1</td>\n",
       "      <td>2</td>\n",
       "      <td>1</td>\n",
       "      <td>1</td>\n",
       "      <td>True</td>\n",
       "    </tr>\n",
       "    <tr>\n",
       "      <th>1</th>\n",
       "      <td>2</td>\n",
       "      <td>2</td>\n",
       "      <td>2</td>\n",
       "      <td>2</td>\n",
       "      <td>1</td>\n",
       "      <td>1</td>\n",
       "      <td>1</td>\n",
       "      <td>2</td>\n",
       "      <td>1</td>\n",
       "      <td>True</td>\n",
       "    </tr>\n",
       "    <tr>\n",
       "      <th>2</th>\n",
       "      <td>2</td>\n",
       "      <td>2</td>\n",
       "      <td>2</td>\n",
       "      <td>2</td>\n",
       "      <td>1</td>\n",
       "      <td>1</td>\n",
       "      <td>1</td>\n",
       "      <td>1</td>\n",
       "      <td>2</td>\n",
       "      <td>True</td>\n",
       "    </tr>\n",
       "    <tr>\n",
       "      <th>3</th>\n",
       "      <td>2</td>\n",
       "      <td>2</td>\n",
       "      <td>2</td>\n",
       "      <td>2</td>\n",
       "      <td>1</td>\n",
       "      <td>1</td>\n",
       "      <td>1</td>\n",
       "      <td>0</td>\n",
       "      <td>0</td>\n",
       "      <td>True</td>\n",
       "    </tr>\n",
       "    <tr>\n",
       "      <th>4</th>\n",
       "      <td>2</td>\n",
       "      <td>2</td>\n",
       "      <td>2</td>\n",
       "      <td>2</td>\n",
       "      <td>1</td>\n",
       "      <td>1</td>\n",
       "      <td>0</td>\n",
       "      <td>1</td>\n",
       "      <td>0</td>\n",
       "      <td>True</td>\n",
       "    </tr>\n",
       "  </tbody>\n",
       "</table>\n",
       "</div>"
      ],
      "text/plain": [
       "   TL  TM  TR  ML  MM  MR  BL  BM  BR  class\n",
       "0   2   2   2   2   1   1   2   1   1   True\n",
       "1   2   2   2   2   1   1   1   2   1   True\n",
       "2   2   2   2   2   1   1   1   1   2   True\n",
       "3   2   2   2   2   1   1   1   0   0   True\n",
       "4   2   2   2   2   1   1   0   1   0   True"
      ]
     },
     "execution_count": 417,
     "metadata": {},
     "output_type": "execute_result"
    }
   ],
   "source": [
    "from sklearn.preprocessing import LabelEncoder\n",
    "\n",
    "\n",
    "num_tictactoe = preprocessing.LabelEncoder()\n",
    "# num_tictactoe.fit([ 'TL', 'TM', 'TR', 'ML', 'MM', 'MR', 'BL', 'BM', 'BR'])\n",
    "# X[:,2] = num_tictactoe.transform(\n",
    "\n",
    "tictactoe[tictactoe.select_dtypes(include=['object']).columns] = tictactoe.select_dtypes(include=['object']).apply(lambda col: num_tictactoe.fit_transform(col))\n",
    "\n",
    "tictactoe.head()"
   ]
  },
  {
   "cell_type": "markdown",
   "metadata": {},
   "source": [
    "#### Split data into predictors and target"
   ]
  },
  {
   "cell_type": "code",
   "execution_count": 418,
   "metadata": {},
   "outputs": [],
   "source": [
    "tictactoe_columns = tictactoe.columns\n",
    "\n",
    "predictors = tictactoe[tictactoe_columns[tictactoe_columns != 'class']] # all columns except class\n",
    "target = tictactoe['class'] # class column"
   ]
  },
  {
   "cell_type": "code",
   "execution_count": 419,
   "metadata": {},
   "outputs": [
    {
     "data": {
      "text/plain": [
       "0    True\n",
       "1    True\n",
       "2    True\n",
       "3    True\n",
       "4    True\n",
       "Name: class, dtype: bool"
      ]
     },
     "execution_count": 419,
     "metadata": {},
     "output_type": "execute_result"
    }
   ],
   "source": [
    "target.head()"
   ]
  },
  {
   "cell_type": "code",
   "execution_count": 420,
   "metadata": {},
   "outputs": [
    {
     "data": {
      "text/html": [
       "<div>\n",
       "<style scoped>\n",
       "    .dataframe tbody tr th:only-of-type {\n",
       "        vertical-align: middle;\n",
       "    }\n",
       "\n",
       "    .dataframe tbody tr th {\n",
       "        vertical-align: top;\n",
       "    }\n",
       "\n",
       "    .dataframe thead th {\n",
       "        text-align: right;\n",
       "    }\n",
       "</style>\n",
       "<table border=\"1\" class=\"dataframe\">\n",
       "  <thead>\n",
       "    <tr style=\"text-align: right;\">\n",
       "      <th></th>\n",
       "      <th>TL</th>\n",
       "      <th>TM</th>\n",
       "      <th>TR</th>\n",
       "      <th>ML</th>\n",
       "      <th>MM</th>\n",
       "      <th>MR</th>\n",
       "      <th>BL</th>\n",
       "      <th>BM</th>\n",
       "      <th>BR</th>\n",
       "    </tr>\n",
       "  </thead>\n",
       "  <tbody>\n",
       "    <tr>\n",
       "      <th>0</th>\n",
       "      <td>2</td>\n",
       "      <td>2</td>\n",
       "      <td>2</td>\n",
       "      <td>2</td>\n",
       "      <td>1</td>\n",
       "      <td>1</td>\n",
       "      <td>2</td>\n",
       "      <td>1</td>\n",
       "      <td>1</td>\n",
       "    </tr>\n",
       "    <tr>\n",
       "      <th>1</th>\n",
       "      <td>2</td>\n",
       "      <td>2</td>\n",
       "      <td>2</td>\n",
       "      <td>2</td>\n",
       "      <td>1</td>\n",
       "      <td>1</td>\n",
       "      <td>1</td>\n",
       "      <td>2</td>\n",
       "      <td>1</td>\n",
       "    </tr>\n",
       "    <tr>\n",
       "      <th>2</th>\n",
       "      <td>2</td>\n",
       "      <td>2</td>\n",
       "      <td>2</td>\n",
       "      <td>2</td>\n",
       "      <td>1</td>\n",
       "      <td>1</td>\n",
       "      <td>1</td>\n",
       "      <td>1</td>\n",
       "      <td>2</td>\n",
       "    </tr>\n",
       "    <tr>\n",
       "      <th>3</th>\n",
       "      <td>2</td>\n",
       "      <td>2</td>\n",
       "      <td>2</td>\n",
       "      <td>2</td>\n",
       "      <td>1</td>\n",
       "      <td>1</td>\n",
       "      <td>1</td>\n",
       "      <td>0</td>\n",
       "      <td>0</td>\n",
       "    </tr>\n",
       "    <tr>\n",
       "      <th>4</th>\n",
       "      <td>2</td>\n",
       "      <td>2</td>\n",
       "      <td>2</td>\n",
       "      <td>2</td>\n",
       "      <td>1</td>\n",
       "      <td>1</td>\n",
       "      <td>0</td>\n",
       "      <td>1</td>\n",
       "      <td>0</td>\n",
       "    </tr>\n",
       "  </tbody>\n",
       "</table>\n",
       "</div>"
      ],
      "text/plain": [
       "   TL  TM  TR  ML  MM  MR  BL  BM  BR\n",
       "0   2   2   2   2   1   1   2   1   1\n",
       "1   2   2   2   2   1   1   1   2   1\n",
       "2   2   2   2   2   1   1   1   1   2\n",
       "3   2   2   2   2   1   1   1   0   0\n",
       "4   2   2   2   2   1   1   0   1   0"
      ]
     },
     "execution_count": 420,
     "metadata": {},
     "output_type": "execute_result"
    }
   ],
   "source": [
    "predictors.head()"
   ]
  },
  {
   "cell_type": "markdown",
   "metadata": {},
   "source": [
    "# Normalization the Input Data\n"
   ]
  },
  {
   "cell_type": "code",
   "execution_count": 421,
   "metadata": {},
   "outputs": [
    {
     "data": {
      "text/html": [
       "<div>\n",
       "<style scoped>\n",
       "    .dataframe tbody tr th:only-of-type {\n",
       "        vertical-align: middle;\n",
       "    }\n",
       "\n",
       "    .dataframe tbody tr th {\n",
       "        vertical-align: top;\n",
       "    }\n",
       "\n",
       "    .dataframe thead th {\n",
       "        text-align: right;\n",
       "    }\n",
       "</style>\n",
       "<table border=\"1\" class=\"dataframe\">\n",
       "  <thead>\n",
       "    <tr style=\"text-align: right;\">\n",
       "      <th></th>\n",
       "      <th>TL</th>\n",
       "      <th>TM</th>\n",
       "      <th>TR</th>\n",
       "      <th>ML</th>\n",
       "      <th>MM</th>\n",
       "      <th>MR</th>\n",
       "      <th>BL</th>\n",
       "      <th>BM</th>\n",
       "      <th>BR</th>\n",
       "    </tr>\n",
       "  </thead>\n",
       "  <tbody>\n",
       "    <tr>\n",
       "      <th>0</th>\n",
       "      <td>1.002699</td>\n",
       "      <td>1.084387</td>\n",
       "      <td>1.002699</td>\n",
       "      <td>1.084387</td>\n",
       "      <td>-0.419857</td>\n",
       "      <td>-0.167231</td>\n",
       "      <td>1.002699</td>\n",
       "      <td>-0.167231</td>\n",
       "      <td>-0.286678</td>\n",
       "    </tr>\n",
       "    <tr>\n",
       "      <th>1</th>\n",
       "      <td>1.002699</td>\n",
       "      <td>1.084387</td>\n",
       "      <td>1.002699</td>\n",
       "      <td>1.084387</td>\n",
       "      <td>-0.419857</td>\n",
       "      <td>-0.167231</td>\n",
       "      <td>-0.286678</td>\n",
       "      <td>1.084387</td>\n",
       "      <td>-0.286678</td>\n",
       "    </tr>\n",
       "    <tr>\n",
       "      <th>2</th>\n",
       "      <td>1.002699</td>\n",
       "      <td>1.084387</td>\n",
       "      <td>1.002699</td>\n",
       "      <td>1.084387</td>\n",
       "      <td>-0.419857</td>\n",
       "      <td>-0.167231</td>\n",
       "      <td>-0.286678</td>\n",
       "      <td>-0.167231</td>\n",
       "      <td>1.002699</td>\n",
       "    </tr>\n",
       "    <tr>\n",
       "      <th>3</th>\n",
       "      <td>1.002699</td>\n",
       "      <td>1.084387</td>\n",
       "      <td>1.002699</td>\n",
       "      <td>1.084387</td>\n",
       "      <td>-0.419857</td>\n",
       "      <td>-0.167231</td>\n",
       "      <td>-0.286678</td>\n",
       "      <td>-1.418849</td>\n",
       "      <td>-1.576054</td>\n",
       "    </tr>\n",
       "    <tr>\n",
       "      <th>4</th>\n",
       "      <td>1.002699</td>\n",
       "      <td>1.084387</td>\n",
       "      <td>1.002699</td>\n",
       "      <td>1.084387</td>\n",
       "      <td>-0.419857</td>\n",
       "      <td>-0.167231</td>\n",
       "      <td>-1.576054</td>\n",
       "      <td>-0.167231</td>\n",
       "      <td>-1.576054</td>\n",
       "    </tr>\n",
       "  </tbody>\n",
       "</table>\n",
       "</div>"
      ],
      "text/plain": [
       "         TL        TM        TR        ML        MM        MR        BL  \\\n",
       "0  1.002699  1.084387  1.002699  1.084387 -0.419857 -0.167231  1.002699   \n",
       "1  1.002699  1.084387  1.002699  1.084387 -0.419857 -0.167231 -0.286678   \n",
       "2  1.002699  1.084387  1.002699  1.084387 -0.419857 -0.167231 -0.286678   \n",
       "3  1.002699  1.084387  1.002699  1.084387 -0.419857 -0.167231 -0.286678   \n",
       "4  1.002699  1.084387  1.002699  1.084387 -0.419857 -0.167231 -1.576054   \n",
       "\n",
       "         BM        BR  \n",
       "0 -0.167231 -0.286678  \n",
       "1  1.084387 -0.286678  \n",
       "2 -0.167231  1.002699  \n",
       "3 -1.418849 -1.576054  \n",
       "4 -0.167231 -1.576054  "
      ]
     },
     "execution_count": 421,
     "metadata": {},
     "output_type": "execute_result"
    }
   ],
   "source": [
    "predictors_norm = (predictors - predictors.mean()) / predictors.std()\n",
    "predictors_norm.head()"
   ]
  },
  {
   "cell_type": "markdown",
   "metadata": {},
   "source": [
    "## Step 2: Build Neural Network\n",
    "\n",
    "To build the neural network, you can refer to your own codes you wrote while following the [Deep Learning with Python, TensorFlow, and Keras tutorial](https://www.youtube.com/watch?v=wQ8BIBpya2k) in the lesson. It's pretty similar to what you will be doing in this lab.\n",
    "\n",
    "1. Split the training and test data.\n",
    "1. Create a `Sequential` model.\n",
    "1. Add several layers to your model. Make sure you use ReLU as the activation function for the middle layers. Use Softmax for the output layer because each output has a single lable and all the label probabilities add up to 1.\n",
    "1. Compile the model using `adam` as the optimizer and `sparse_categorical_crossentropy` as the loss function. For metrics, use `accuracy` for now.\n",
    "1. Fit the training data.\n",
    "1. Evaluate your neural network model with the test data.\n",
    "1. Save your model as `tic-tac-toe.model`."
   ]
  },
  {
   "cell_type": "markdown",
   "metadata": {},
   "source": [
    "Caluclate the Inputs:"
   ]
  },
  {
   "cell_type": "code",
   "execution_count": 422,
   "metadata": {},
   "outputs": [
    {
     "data": {
      "text/plain": [
       "9"
      ]
     },
     "execution_count": 422,
     "metadata": {},
     "output_type": "execute_result"
    }
   ],
   "source": [
    "n_cols = predictors_norm.shape[1] # number of predictors\n",
    "n_cols"
   ]
  },
  {
   "cell_type": "markdown",
   "metadata": {},
   "source": [
    "Split the Data into Training and Test:"
   ]
  },
  {
   "cell_type": "code",
   "execution_count": 423,
   "metadata": {},
   "outputs": [],
   "source": [
    "from sklearn.model_selection import train_test_split\n",
    "\n",
    "# Split the dataset into training and test sets\n",
    "X_train, X_test, y_train, y_test = train_test_split(predictors_norm, target, test_size=0.3, random_state=42)"
   ]
  },
  {
   "cell_type": "markdown",
   "metadata": {},
   "source": [
    "# Library Imports "
   ]
  },
  {
   "cell_type": "code",
   "execution_count": 424,
   "metadata": {},
   "outputs": [],
   "source": [
    "from tensorflow import keras\n",
    "from keras.models import Sequential\n",
    "from keras.layers import Dense"
   ]
  },
  {
   "cell_type": "markdown",
   "metadata": {},
   "source": [
    "## Build a Neural Network\n"
   ]
  },
  {
   "cell_type": "markdown",
   "metadata": {},
   "source": [
    "Setting up a funtion:"
   ]
  },
  {
   "cell_type": "code",
   "execution_count": 425,
   "metadata": {},
   "outputs": [],
   "source": [
    "# define regression model\n",
    "def regression_model():\n",
    "    # create model\n",
    "    model = Sequential()\n",
    "    model.add(Dense(150, activation='relu', input_shape=(n_cols,)))\n",
    "    model.add(Dense(500, activation='relu'))\n",
    "\n",
    "    model.add(Dense(1000, activation='relu'))\n",
    "    model.add(Dense(1000, activation='relu'))\n",
    "    model.add(Dense(500, activation='relu'))\n",
    "\n",
    "    model.add(Dense(2, activation='softmax'))\n",
    "\n",
    "    \n",
    "    # compile model\n",
    "    model.compile(optimizer='adam', loss='sparse_categorical_crossentropy', metrics=['accuracy'])\n",
    "    return model"
   ]
  },
  {
   "cell_type": "markdown",
   "metadata": {},
   "source": [
    "Train the Model:"
   ]
  },
  {
   "cell_type": "code",
   "execution_count": 426,
   "metadata": {},
   "outputs": [
    {
     "name": "stderr",
     "output_type": "stream",
     "text": [
      "/opt/anaconda3/lib/python3.12/site-packages/keras/src/layers/core/dense.py:87: UserWarning: Do not pass an `input_shape`/`input_dim` argument to a layer. When using Sequential models, prefer using an `Input(shape)` object as the first layer in the model instead.\n",
      "  super().__init__(activity_regularizer=activity_regularizer, **kwargs)\n"
     ]
    },
    {
     "ename": "AttributeError",
     "evalue": "'Sequential' object has no attribute 'to'",
     "output_type": "error",
     "traceback": [
      "\u001b[0;31m---------------------------------------------------------------------------\u001b[0m",
      "\u001b[0;31mAttributeError\u001b[0m                            Traceback (most recent call last)",
      "Cell \u001b[0;32mIn[426], line 5\u001b[0m\n\u001b[1;32m      3\u001b[0m \u001b[38;5;28;01mimport\u001b[39;00m \u001b[38;5;21;01mtorch\u001b[39;00m\n\u001b[1;32m      4\u001b[0m device \u001b[38;5;241m=\u001b[39m torch\u001b[38;5;241m.\u001b[39mdevice(\u001b[38;5;124m\"\u001b[39m\u001b[38;5;124mcuda\u001b[39m\u001b[38;5;124m\"\u001b[39m \u001b[38;5;28;01mif\u001b[39;00m torch\u001b[38;5;241m.\u001b[39mcuda\u001b[38;5;241m.\u001b[39mis_available() \u001b[38;5;28;01melse\u001b[39;00m \u001b[38;5;124m\"\u001b[39m\u001b[38;5;124mcpu\u001b[39m\u001b[38;5;124m\"\u001b[39m)\n\u001b[0;32m----> 5\u001b[0m model \u001b[38;5;241m=\u001b[39m model\u001b[38;5;241m.\u001b[39mto(device)\n\u001b[1;32m      7\u001b[0m \u001b[38;5;66;03m# fit the model\u001b[39;00m\n\u001b[1;32m      8\u001b[0m model\u001b[38;5;241m.\u001b[39mfit(X_train, y_train, epochs\u001b[38;5;241m=\u001b[39m\u001b[38;5;241m100\u001b[39m, verbose\u001b[38;5;241m=\u001b[39m\u001b[38;5;241m1\u001b[39m)\n",
      "\u001b[0;31mAttributeError\u001b[0m: 'Sequential' object has no attribute 'to'"
     ]
    }
   ],
   "source": [
    "# build the model\n",
    "model = regression_model()\n",
    "# import torch\n",
    "# device = torch.device(\"cuda\" if torch.cuda.is_available() else \"cpu\")\n",
    "# model = model.to(device)\n",
    "\n",
    "# fit the model\n",
    "model.fit(X_train, y_train, epochs=100, verbose=1)"
   ]
  },
  {
   "cell_type": "code",
   "execution_count": null,
   "metadata": {},
   "outputs": [],
   "source": []
  },
  {
   "cell_type": "markdown",
   "metadata": {},
   "source": []
  },
  {
   "cell_type": "markdown",
   "metadata": {},
   "source": [
    "# Saving the model:"
   ]
  },
  {
   "cell_type": "code",
   "execution_count": 371,
   "metadata": {},
   "outputs": [],
   "source": [
    "model.save(\"tic-tac-toe.keras\")"
   ]
  },
  {
   "cell_type": "markdown",
   "metadata": {},
   "source": [
    "## Step 3: Make Predictions\n",
    "\n",
    "Now load your saved model and use it to make predictions on a few random rows in the test dataset. Check if the predictions are correct."
   ]
  },
  {
   "cell_type": "markdown",
   "metadata": {},
   "source": [
    "Load model:"
   ]
  },
  {
   "cell_type": "code",
   "execution_count": 372,
   "metadata": {},
   "outputs": [],
   "source": [
    "from tensorflow.keras.models import load_model\n",
    "\n",
    "# Load the Keras model\n",
    "model = load_model(\"tic-tac-toe.keras\")"
   ]
  },
  {
   "cell_type": "markdown",
   "metadata": {},
   "source": [
    "Run prediction: "
   ]
  },
  {
   "cell_type": "code",
   "execution_count": 373,
   "metadata": {},
   "outputs": [
    {
     "name": "stdout",
     "output_type": "stream",
     "text": [
      "\u001b[1m9/9\u001b[0m \u001b[32m━━━━━━━━━━━━━━━━━━━━\u001b[0m\u001b[37m\u001b[0m \u001b[1m0s\u001b[0m 4ms/step \n"
     ]
    }
   ],
   "source": [
    "# Make predictions on the test set\n",
    "y_pred = model.predict(X_test)"
   ]
  },
  {
   "cell_type": "code",
   "execution_count": 374,
   "metadata": {},
   "outputs": [
    {
     "name": "stdout",
     "output_type": "stream",
     "text": [
      "(288,)\n",
      "(288, 2)\n"
     ]
    }
   ],
   "source": [
    "print(y_test.shape)  # Should be 1D: (num_samples,)\n",
    "print(y_pred.shape) "
   ]
  },
  {
   "cell_type": "code",
   "execution_count": 375,
   "metadata": {},
   "outputs": [
    {
     "data": {
      "text/plain": [
       "836    False\n",
       "477     True\n",
       "350     True\n",
       "891    False\n",
       "855    False\n",
       "Name: class, dtype: bool"
      ]
     },
     "execution_count": 375,
     "metadata": {},
     "output_type": "execute_result"
    }
   ],
   "source": [
    "y_test.head()"
   ]
  },
  {
   "cell_type": "code",
   "execution_count": 376,
   "metadata": {},
   "outputs": [
    {
     "data": {
      "text/plain": [
       "228     True\n",
       "319     True\n",
       "715    False\n",
       "212     True\n",
       "79      True\n",
       "Name: class, dtype: bool"
      ]
     },
     "execution_count": 376,
     "metadata": {},
     "output_type": "execute_result"
    }
   ],
   "source": [
    "y_train.head()"
   ]
  },
  {
   "cell_type": "code",
   "execution_count": 377,
   "metadata": {},
   "outputs": [],
   "source": [
    "# import numpy as np\n",
    "\n",
    "# # If y_pred is probabilities, get the predicted class (e.g., threshold=0.5 for binary classification)\n",
    "# y_pred = (y_pred > 0.5).astype(int)  # For binary classification"
   ]
  },
  {
   "cell_type": "code",
   "execution_count": 378,
   "metadata": {},
   "outputs": [
    {
     "data": {
      "text/plain": [
       "array([[9.99927759e-01, 7.21910474e-05],\n",
       "       [1.41537289e-15, 1.00000000e+00],\n",
       "       [6.59604638e-08, 9.99999881e-01],\n",
       "       [9.99999762e-01, 2.09260349e-07],\n",
       "       [1.00000000e+00, 1.57537719e-22],\n",
       "       [7.62588911e-07, 9.99999285e-01],\n",
       "       [6.96602552e-13, 1.00000000e+00],\n",
       "       [1.86332429e-07, 9.99999762e-01],\n",
       "       [9.62727331e-03, 9.90372837e-01],\n",
       "       [4.83799964e-01, 5.16200066e-01],\n",
       "       [4.15600783e-11, 1.00000000e+00],\n",
       "       [6.81303886e-23, 1.00000000e+00],\n",
       "       [8.15360466e-17, 1.00000000e+00],\n",
       "       [9.99999881e-01, 1.24804316e-07],\n",
       "       [8.61715300e-12, 1.00000000e+00],\n",
       "       [1.34097365e-15, 1.00000000e+00],\n",
       "       [1.67356789e-04, 9.99832690e-01],\n",
       "       [9.97625744e-17, 1.00000000e+00],\n",
       "       [9.99999881e-01, 1.55252920e-07],\n",
       "       [9.99999881e-01, 9.35433064e-08],\n",
       "       [1.00000000e+00, 3.84381566e-16],\n",
       "       [1.02056667e-17, 1.00000000e+00],\n",
       "       [1.00000000e+00, 3.44004611e-08],\n",
       "       [5.64333302e-18, 1.00000000e+00],\n",
       "       [9.99999762e-01, 2.73065496e-07],\n",
       "       [2.28834167e-15, 1.00000000e+00],\n",
       "       [1.26637117e-17, 1.00000000e+00],\n",
       "       [2.72937529e-14, 1.00000000e+00],\n",
       "       [9.99911606e-01, 8.83883476e-05],\n",
       "       [1.43373346e-17, 1.00000000e+00],\n",
       "       [2.99758441e-19, 1.00000000e+00],\n",
       "       [1.06780548e-14, 1.00000000e+00],\n",
       "       [5.50506110e-18, 1.00000000e+00],\n",
       "       [3.36126192e-07, 9.99999642e-01],\n",
       "       [1.00000000e+00, 3.49532001e-11],\n",
       "       [9.99999881e-01, 1.63240799e-07],\n",
       "       [2.90795448e-18, 1.00000000e+00],\n",
       "       [1.67917333e-10, 1.00000000e+00],\n",
       "       [2.48854045e-17, 1.00000000e+00],\n",
       "       [1.00000000e+00, 4.01866984e-08],\n",
       "       [8.04940323e-15, 1.00000000e+00],\n",
       "       [1.11028897e-18, 1.00000000e+00],\n",
       "       [1.00000000e+00, 5.05639530e-10],\n",
       "       [9.99999881e-01, 1.71225054e-07],\n",
       "       [1.48571928e-07, 9.99999881e-01],\n",
       "       [1.00000000e+00, 6.14986284e-10],\n",
       "       [4.16793626e-16, 1.00000000e+00],\n",
       "       [1.16242418e-10, 1.00000000e+00],\n",
       "       [9.99999166e-01, 8.43225507e-07],\n",
       "       [1.00000000e+00, 1.18270984e-08],\n",
       "       [1.00000000e+00, 9.05865416e-14],\n",
       "       [1.00000000e+00, 2.83555893e-17],\n",
       "       [5.52354149e-14, 1.00000000e+00],\n",
       "       [3.83849084e-07, 9.99999642e-01],\n",
       "       [4.95611403e-07, 9.99999523e-01],\n",
       "       [1.28073903e-21, 1.00000000e+00],\n",
       "       [4.86907911e-15, 1.00000000e+00],\n",
       "       [1.00000000e+00, 3.06755794e-08],\n",
       "       [1.00000000e+00, 7.04091097e-09],\n",
       "       [1.05122963e-16, 1.00000000e+00],\n",
       "       [4.01155454e-12, 1.00000000e+00],\n",
       "       [4.33359730e-07, 9.99999523e-01],\n",
       "       [9.99972284e-01, 2.78343759e-05],\n",
       "       [1.27223387e-07, 9.99999881e-01],\n",
       "       [3.55625604e-13, 1.00000000e+00],\n",
       "       [6.15897901e-19, 1.00000000e+00],\n",
       "       [1.31727430e-14, 1.00000000e+00],\n",
       "       [1.00000000e+00, 2.30924684e-08],\n",
       "       [3.16495152e-15, 1.00000000e+00],\n",
       "       [3.44537010e-20, 1.00000000e+00],\n",
       "       [9.99989748e-01, 1.02136282e-05],\n",
       "       [4.40705493e-02, 9.55929458e-01],\n",
       "       [9.99992847e-01, 7.20042090e-06],\n",
       "       [8.81413281e-01, 1.18586674e-01],\n",
       "       [8.59828724e-04, 9.99140143e-01],\n",
       "       [2.40914873e-13, 1.00000000e+00],\n",
       "       [4.97675035e-03, 9.95023191e-01],\n",
       "       [9.99990344e-01, 9.60779653e-06],\n",
       "       [5.26269287e-05, 9.99947429e-01],\n",
       "       [5.96476674e-01, 4.03523386e-01],\n",
       "       [1.11180751e-16, 1.00000000e+00],\n",
       "       [1.17118902e-16, 1.00000000e+00],\n",
       "       [2.94452608e-16, 1.00000000e+00],\n",
       "       [1.24948888e-11, 1.00000000e+00],\n",
       "       [3.85526201e-20, 1.00000000e+00],\n",
       "       [5.52602516e-15, 1.00000000e+00],\n",
       "       [9.99992251e-01, 7.77584592e-06],\n",
       "       [9.99999762e-01, 2.35809225e-07],\n",
       "       [1.32554776e-08, 1.00000000e+00],\n",
       "       [3.57789612e-18, 1.00000000e+00],\n",
       "       [2.70168349e-12, 1.00000000e+00],\n",
       "       [9.99999881e-01, 1.66624659e-07],\n",
       "       [1.24208830e-13, 1.00000000e+00],\n",
       "       [4.30858869e-04, 9.99569178e-01],\n",
       "       [1.20237305e-12, 1.00000000e+00],\n",
       "       [3.32688006e-13, 1.00000000e+00],\n",
       "       [1.00000000e+00, 9.69664279e-12],\n",
       "       [2.29757377e-19, 1.00000000e+00],\n",
       "       [2.21579222e-12, 1.00000000e+00],\n",
       "       [1.79682944e-18, 1.00000000e+00],\n",
       "       [3.82678511e-09, 1.00000000e+00],\n",
       "       [1.52789479e-08, 1.00000000e+00],\n",
       "       [1.00000000e+00, 1.88161249e-16],\n",
       "       [5.35520244e-18, 1.00000000e+00],\n",
       "       [1.56872182e-13, 1.00000000e+00],\n",
       "       [1.09854147e-10, 1.00000000e+00],\n",
       "       [1.91705493e-17, 1.00000000e+00],\n",
       "       [7.65414441e-16, 1.00000000e+00],\n",
       "       [4.04986822e-05, 9.99959528e-01],\n",
       "       [2.29152050e-02, 9.77084816e-01],\n",
       "       [6.55507523e-11, 1.00000000e+00],\n",
       "       [7.32733533e-05, 9.99926686e-01],\n",
       "       [8.33190017e-13, 1.00000000e+00],\n",
       "       [9.99998331e-01, 1.72840384e-06],\n",
       "       [8.19274818e-21, 1.00000000e+00],\n",
       "       [1.13886318e-17, 1.00000000e+00],\n",
       "       [9.99999881e-01, 1.59088259e-07],\n",
       "       [7.93312083e-08, 9.99999881e-01],\n",
       "       [1.00000000e+00, 2.70669636e-20],\n",
       "       [1.00000000e+00, 1.77195453e-10],\n",
       "       [3.47233561e-11, 1.00000000e+00],\n",
       "       [9.99999166e-01, 8.77910168e-07],\n",
       "       [2.56323049e-16, 1.00000000e+00],\n",
       "       [1.00000000e+00, 1.31944613e-19],\n",
       "       [9.99686480e-01, 3.13565339e-04],\n",
       "       [1.28459174e-18, 1.00000000e+00],\n",
       "       [1.00000000e+00, 6.21461327e-09],\n",
       "       [4.74733849e-20, 1.00000000e+00],\n",
       "       [9.99984324e-01, 1.57416907e-05],\n",
       "       [1.55266712e-18, 1.00000000e+00],\n",
       "       [6.37650523e-13, 1.00000000e+00],\n",
       "       [2.34305446e-08, 1.00000000e+00],\n",
       "       [1.00000000e+00, 2.31468608e-10],\n",
       "       [1.21725748e-18, 1.00000000e+00],\n",
       "       [1.00000000e+00, 5.74473127e-08],\n",
       "       [6.33180506e-14, 1.00000000e+00],\n",
       "       [2.24142384e-12, 1.00000000e+00],\n",
       "       [6.28828366e-06, 9.99993682e-01],\n",
       "       [1.00000000e+00, 6.23205473e-19],\n",
       "       [2.48601739e-09, 1.00000000e+00],\n",
       "       [6.17435587e-14, 1.00000000e+00],\n",
       "       [1.14392371e-15, 1.00000000e+00],\n",
       "       [1.80306952e-12, 1.00000000e+00],\n",
       "       [1.36324874e-17, 1.00000000e+00],\n",
       "       [9.99997854e-01, 2.15166028e-06],\n",
       "       [4.91876125e-13, 1.00000000e+00],\n",
       "       [5.64580500e-12, 1.00000000e+00],\n",
       "       [9.99999523e-01, 4.21880969e-07],\n",
       "       [1.47818539e-16, 1.00000000e+00],\n",
       "       [2.18747318e-19, 1.00000000e+00],\n",
       "       [1.51772905e-08, 1.00000000e+00],\n",
       "       [5.75143799e-09, 1.00000000e+00],\n",
       "       [1.00000000e+00, 5.57088403e-12],\n",
       "       [9.99999881e-01, 1.11402002e-07],\n",
       "       [1.13100995e-09, 1.00000000e+00],\n",
       "       [3.47238703e-04, 9.99652803e-01],\n",
       "       [1.00000000e+00, 2.12850217e-08],\n",
       "       [3.94079927e-03, 9.96059120e-01],\n",
       "       [1.00000000e+00, 2.22254375e-08],\n",
       "       [9.67574607e-08, 9.99999881e-01],\n",
       "       [1.00000000e+00, 1.58731857e-14],\n",
       "       [8.55134368e-01, 1.44865692e-01],\n",
       "       [4.99202813e-21, 1.00000000e+00],\n",
       "       [1.10380136e-20, 1.00000000e+00],\n",
       "       [2.15183135e-07, 9.99999762e-01],\n",
       "       [1.43213768e-07, 9.99999881e-01],\n",
       "       [2.13336245e-20, 1.00000000e+00],\n",
       "       [1.40783307e-09, 1.00000000e+00],\n",
       "       [2.00571032e-13, 1.00000000e+00],\n",
       "       [8.01006193e-14, 1.00000000e+00],\n",
       "       [6.52865766e-23, 1.00000000e+00],\n",
       "       [1.00000000e+00, 1.30560385e-09],\n",
       "       [9.99990106e-01, 9.86155010e-06],\n",
       "       [2.53580989e-12, 1.00000000e+00],\n",
       "       [4.62629623e-09, 1.00000000e+00],\n",
       "       [1.85717056e-20, 1.00000000e+00],\n",
       "       [1.00000000e+00, 2.35740566e-10],\n",
       "       [1.22520006e-11, 1.00000000e+00],\n",
       "       [1.59473050e-16, 1.00000000e+00],\n",
       "       [9.99999642e-01, 3.98020831e-07],\n",
       "       [4.86975411e-20, 1.00000000e+00],\n",
       "       [1.54400722e-12, 1.00000000e+00],\n",
       "       [1.00000000e+00, 3.63518354e-10],\n",
       "       [9.99991655e-01, 8.32801561e-06],\n",
       "       [1.78919541e-19, 1.00000000e+00],\n",
       "       [2.45673208e-12, 1.00000000e+00],\n",
       "       [9.99978125e-01, 2.19881495e-05],\n",
       "       [1.72189527e-06, 9.99998331e-01],\n",
       "       [1.00000000e+00, 3.82296028e-10],\n",
       "       [4.47247458e-19, 1.00000000e+00],\n",
       "       [1.75200348e-16, 1.00000000e+00],\n",
       "       [7.01513052e-01, 2.98486948e-01],\n",
       "       [1.14413246e-09, 1.00000000e+00],\n",
       "       [1.79556738e-12, 1.00000000e+00],\n",
       "       [3.70314864e-18, 1.00000000e+00],\n",
       "       [3.28751314e-24, 1.00000000e+00],\n",
       "       [8.68429564e-11, 1.00000000e+00],\n",
       "       [3.27004201e-08, 1.00000000e+00],\n",
       "       [6.51071081e-20, 1.00000000e+00],\n",
       "       [9.99998808e-01, 1.23007328e-06],\n",
       "       [1.28666843e-11, 1.00000000e+00],\n",
       "       [1.27666148e-13, 1.00000000e+00],\n",
       "       [6.74647004e-15, 1.00000000e+00],\n",
       "       [3.94139772e-13, 1.00000000e+00],\n",
       "       [2.13355449e-08, 1.00000000e+00],\n",
       "       [1.06567462e-19, 1.00000000e+00],\n",
       "       [1.16777443e-19, 1.00000000e+00],\n",
       "       [2.55462093e-16, 1.00000000e+00],\n",
       "       [3.13838192e-11, 1.00000000e+00],\n",
       "       [9.82233739e-10, 1.00000000e+00],\n",
       "       [7.90988896e-18, 1.00000000e+00],\n",
       "       [8.75057405e-14, 1.00000000e+00],\n",
       "       [2.17360263e-08, 1.00000000e+00],\n",
       "       [1.66165140e-16, 1.00000000e+00],\n",
       "       [1.42968545e-11, 1.00000000e+00],\n",
       "       [8.81087907e-15, 1.00000000e+00],\n",
       "       [1.00000000e+00, 2.12401585e-09],\n",
       "       [9.99999762e-01, 2.22126445e-07],\n",
       "       [9.79053703e-18, 1.00000000e+00],\n",
       "       [1.00000000e+00, 8.95059671e-09],\n",
       "       [8.76912210e-10, 1.00000000e+00],\n",
       "       [9.99998093e-01, 1.87731678e-06],\n",
       "       [4.05878837e-19, 1.00000000e+00],\n",
       "       [3.23689875e-08, 1.00000000e+00],\n",
       "       [9.99999762e-01, 1.98774586e-07],\n",
       "       [1.00000000e+00, 8.93723240e-18],\n",
       "       [3.91031799e-19, 1.00000000e+00],\n",
       "       [1.92255049e-14, 1.00000000e+00],\n",
       "       [9.99993205e-01, 6.81914889e-06],\n",
       "       [6.28585638e-16, 1.00000000e+00],\n",
       "       [1.18581289e-09, 1.00000000e+00],\n",
       "       [2.55317912e-16, 1.00000000e+00],\n",
       "       [4.64195793e-13, 1.00000000e+00],\n",
       "       [8.78908679e-09, 1.00000000e+00],\n",
       "       [6.91170081e-12, 1.00000000e+00],\n",
       "       [9.59894583e-02, 9.04010475e-01],\n",
       "       [4.11474244e-10, 1.00000000e+00],\n",
       "       [7.33971550e-10, 1.00000000e+00],\n",
       "       [1.07463036e-13, 1.00000000e+00],\n",
       "       [1.88913330e-01, 8.11086655e-01],\n",
       "       [8.91621403e-06, 9.99991059e-01],\n",
       "       [2.86594135e-18, 1.00000000e+00],\n",
       "       [2.68052799e-18, 1.00000000e+00],\n",
       "       [4.72921128e-19, 1.00000000e+00],\n",
       "       [9.87324000e-10, 1.00000000e+00],\n",
       "       [1.00000000e+00, 1.87388938e-10],\n",
       "       [1.00000000e+00, 1.36033576e-15],\n",
       "       [3.83222273e-11, 1.00000000e+00],\n",
       "       [2.40784541e-12, 1.00000000e+00],\n",
       "       [2.34135784e-11, 1.00000000e+00],\n",
       "       [3.06252983e-12, 1.00000000e+00],\n",
       "       [9.99321103e-01, 6.78944227e-04],\n",
       "       [1.53226639e-12, 1.00000000e+00],\n",
       "       [1.03552467e-15, 1.00000000e+00],\n",
       "       [2.83711906e-05, 9.99971688e-01],\n",
       "       [2.46243093e-09, 1.00000000e+00],\n",
       "       [9.99999762e-01, 2.11658005e-07],\n",
       "       [9.95144939e-11, 1.00000000e+00],\n",
       "       [9.96846378e-01, 3.15362122e-03],\n",
       "       [9.99958456e-01, 4.15881368e-05],\n",
       "       [1.00000000e+00, 1.60553567e-11],\n",
       "       [8.72154793e-14, 1.00000000e+00],\n",
       "       [1.00000000e+00, 4.40516677e-12],\n",
       "       [1.64316371e-16, 1.00000000e+00],\n",
       "       [1.00000000e+00, 2.30581595e-10],\n",
       "       [3.72833308e-20, 1.00000000e+00],\n",
       "       [9.33533847e-01, 6.64661825e-02],\n",
       "       [6.34700484e-07, 9.99999404e-01],\n",
       "       [1.75399677e-08, 1.00000000e+00],\n",
       "       [9.99999642e-01, 3.28210859e-07],\n",
       "       [5.06270807e-13, 1.00000000e+00],\n",
       "       [1.37574993e-10, 1.00000000e+00],\n",
       "       [1.09833376e-02, 9.89016712e-01],\n",
       "       [2.12648689e-14, 1.00000000e+00],\n",
       "       [1.00000000e+00, 2.05521911e-08],\n",
       "       [5.32001573e-19, 1.00000000e+00],\n",
       "       [1.35960123e-12, 1.00000000e+00],\n",
       "       [1.00000000e+00, 1.87241134e-09],\n",
       "       [6.62350612e-06, 9.99993324e-01],\n",
       "       [9.80341077e-01, 1.96588933e-02],\n",
       "       [3.40002614e-12, 1.00000000e+00],\n",
       "       [1.00000000e+00, 1.57376421e-11],\n",
       "       [1.00000000e+00, 4.63496713e-10],\n",
       "       [8.07501814e-16, 1.00000000e+00],\n",
       "       [1.00000000e+00, 1.16132171e-08],\n",
       "       [8.85207832e-01, 1.14792176e-01],\n",
       "       [7.91653808e-12, 1.00000000e+00],\n",
       "       [1.00000000e+00, 5.17292378e-08]], dtype=float32)"
      ]
     },
     "execution_count": 378,
     "metadata": {},
     "output_type": "execute_result"
    }
   ],
   "source": [
    "y_pred"
   ]
  },
  {
   "cell_type": "code",
   "execution_count": 379,
   "metadata": {},
   "outputs": [
    {
     "name": "stdout",
     "output_type": "stream",
     "text": [
      "Test loss: 0.17999738454818726\n",
      "Test accuracy: 0.9756944179534912\n"
     ]
    }
   ],
   "source": [
    "score = model.evaluate(X_test, y_test, verbose=0)\n",
    "print(\"Test loss:\", score[0])\n",
    "print(\"Test accuracy:\", score[1])"
   ]
  },
  {
   "cell_type": "markdown",
   "metadata": {},
   "source": [
    "## Step 4: Improve Your Model\n",
    "\n",
    "Did your model achieve low loss (<0.1) and high accuracy (>0.95)? If not, try to improve your model.\n",
    "\n",
    "But how? There are so many things you can play with in Tensorflow and in the next challenge you'll learn about these things. But in this challenge, let's just do a few things to see if they will help.\n",
    "\n",
    "* Add more layers to your model. If the data are complex you need more layers. But don't use more layers than you need. If adding more layers does not improve the model performance you don't need additional layers.\n",
    "* Adjust the learning rate when you compile the model. This means you will create a custom `tf.keras.optimizers.Adam` instance where you specify the learning rate you want. Then pass the instance to `model.compile` as the optimizer.\n",
    "    * `tf.keras.optimizers.Adam` [reference](https://www.tensorflow.org/api_docs/python/tf/keras/optimizers/Adam).\n",
    "    * Don't worry if you don't understand what the learning rate does. You'll learn about it in the next challenge.\n",
    "* Adjust the number of epochs when you fit the training data to the model. Your model performance continues to improve as you train more epochs. But eventually it will reach the ceiling and the performance will stay the same."
   ]
  },
  {
   "cell_type": "markdown",
   "metadata": {},
   "source": [
    "| Epochs      | Layers      | Neurons      | Accuracy      | loss funtion |\n",
    "|---------------|---------------|---------------|---------------|---------------|\n",
    "| 100 | 5 | 150/500/1000/500/1 |  0.9826388955116272 | 0.0312918983399868|\n",
    "| 50 | 5 | 150/500/1000/500/1 | 0.9861111044883728 |0.0622735433280468|\n",
    "| 50 | 5 | 500/1000/1000/500/1 |  0.9756944179534912 |0.07112326472997665|\n",
    "| 500 | 5 | 150/500/1000/1000/500/1 | 0.9791666865348816 |0.19541221857070923|"
   ]
  },
  {
   "cell_type": "markdown",
   "metadata": {},
   "source": [
    "**Which approach(es) did you find helpful to improve your model performance?**"
   ]
  },
  {
   "cell_type": "code",
   "execution_count": 380,
   "metadata": {},
   "outputs": [],
   "source": [
    "# your answer here"
   ]
  }
 ],
 "metadata": {
  "kernelspec": {
   "display_name": "base",
   "language": "python",
   "name": "python3"
  },
  "language_info": {
   "codemirror_mode": {
    "name": "ipython",
    "version": 3
   },
   "file_extension": ".py",
   "mimetype": "text/x-python",
   "name": "python",
   "nbconvert_exporter": "python",
   "pygments_lexer": "ipython3",
   "version": "3.12.4"
  }
 },
 "nbformat": 4,
 "nbformat_minor": 2
}
