{
 "cells": [
  {
   "cell_type": "markdown",
   "metadata": {},
   "source": [
    "# Challenge 1 - Tic Tac Toe\n",
    "\n",
    "In this lab you will perform deep learning analysis on a dataset of playing [Tic Tac Toe](https://en.wikipedia.org/wiki/Tic-tac-toe).\n",
    "\n",
    "There are 9 grids in Tic Tac Toe that are coded as the following picture shows:\n",
    "\n",
    "![Tic Tac Toe Grids](tttboard.jpg)\n",
    "\n",
    "In the first 9 columns of the dataset you can find which marks (`x` or `o`) exist in the grids. If there is no mark in a certain grid, it is labeled as `b`. The last column is `class` which tells you whether Player X (who always moves first in Tic Tac Toe) wins in this configuration. Note that when `class` has the value `False`, it means either Player O wins the game or it ends up as a draw."
   ]
  },
  {
   "cell_type": "markdown",
   "metadata": {},
   "source": [
    "Follow the steps suggested below to conduct a neural network analysis using Tensorflow and Keras. You will build a deep learning model to predict whether Player X wins the game or not.\n",
    "\n",
    "## Step 1: Data Engineering\n",
    "\n",
    "This dataset is almost in the ready-to-use state so you do not need to worry about missing values and so on. Still, some simple data engineering is needed.\n",
    "\n",
    "1. Read `tic-tac-toe.csv` into a dataframe.\n",
    "1. Inspect the dataset. Determine if the dataset is reliable by eyeballing the data.\n",
    "1. Convert the categorical values to numeric in all columns.\n",
    "1. Separate the inputs and output.\n",
    "1. Normalize the input data."
   ]
  },
  {
   "cell_type": "code",
   "execution_count": 11,
   "metadata": {},
   "outputs": [],
   "source": [
    "# your code here\n",
    "import pandas as pd\n",
    "from sklearn.preprocessing import MinMaxScaler\n",
    "\n",
    "df = pd.read_csv('tic-tac-toe.csv')\n",
    "df.head()\n",
    "df.replace({'x': 1, 'o': 0, 'b': -1, True: 1, False: 0}, inplace=True)\n",
    "X = df.drop('class', axis=1)\n",
    "y = df['class']\n",
    "\n",
    "scaler = MinMaxScaler(feature_range=(-1, 1))\n",
    "X_scaled = scaler.fit_transform(X)\n"
   ]
  },
  {
   "cell_type": "markdown",
   "metadata": {},
   "source": [
    "## Step 2: Build Neural Network\n",
    "\n",
    "To build the neural network, you can refer to your own codes you wrote while following the [Deep Learning with Python, TensorFlow, and Keras tutorial](https://www.youtube.com/watch?v=wQ8BIBpya2k) in the lesson. It's pretty similar to what you will be doing in this lab.\n",
    "\n",
    "1. Split the training and test data.\n",
    "1. Create a `Sequential` model.\n",
    "1. Add several layers to your model. Make sure you use ReLU as the activation function for the middle layers. Use Softmax for the output layer because each output has a single lable and all the label probabilities add up to 1.\n",
    "1. Compile the model using `adam` as the optimizer and `sparse_categorical_crossentropy` as the loss function. For metrics, use `accuracy` for now.\n",
    "1. Fit the training data.\n",
    "1. Evaluate your neural network model with the test data.\n",
    "1. Save your model as `tic-tac-toe.model`."
   ]
  },
  {
   "cell_type": "code",
   "execution_count": 12,
   "metadata": {},
   "outputs": [
    {
     "name": "stdout",
     "output_type": "stream",
     "text": [
      "Epoch 1/10\n",
      "20/20 [==============================] - 3s 47ms/step - loss: 0.6376 - accuracy: 0.6389 - val_loss: 0.6096 - val_accuracy: 0.6818\n",
      "Epoch 2/10\n",
      "20/20 [==============================] - 0s 7ms/step - loss: 0.5995 - accuracy: 0.6699 - val_loss: 0.6178 - val_accuracy: 0.6818\n",
      "Epoch 3/10\n",
      "20/20 [==============================] - 0s 7ms/step - loss: 0.5752 - accuracy: 0.7092 - val_loss: 0.6068 - val_accuracy: 0.7013\n",
      "Epoch 4/10\n",
      "20/20 [==============================] - 0s 6ms/step - loss: 0.5550 - accuracy: 0.7239 - val_loss: 0.6009 - val_accuracy: 0.7143\n",
      "Epoch 5/10\n",
      "20/20 [==============================] - 0s 11ms/step - loss: 0.5339 - accuracy: 0.7565 - val_loss: 0.5847 - val_accuracy: 0.6948\n",
      "Epoch 6/10\n",
      "20/20 [==============================] - 0s 7ms/step - loss: 0.5127 - accuracy: 0.7647 - val_loss: 0.5747 - val_accuracy: 0.7143\n",
      "Epoch 7/10\n",
      "20/20 [==============================] - 0s 9ms/step - loss: 0.4961 - accuracy: 0.7778 - val_loss: 0.5577 - val_accuracy: 0.7468\n",
      "Epoch 8/10\n",
      "20/20 [==============================] - 0s 13ms/step - loss: 0.4710 - accuracy: 0.7810 - val_loss: 0.5490 - val_accuracy: 0.7727\n",
      "Epoch 9/10\n",
      "20/20 [==============================] - 0s 6ms/step - loss: 0.4494 - accuracy: 0.8121 - val_loss: 0.5392 - val_accuracy: 0.7662\n",
      "Epoch 10/10\n",
      "20/20 [==============================] - 0s 11ms/step - loss: 0.4250 - accuracy: 0.8350 - val_loss: 0.5193 - val_accuracy: 0.7727\n",
      "6/6 [==============================] - 0s 5ms/step - loss: 0.5045 - accuracy: 0.7500\n",
      "Test accuracy: 0.75\n",
      "INFO:tensorflow:Assets written to: tic-tac-toe.model/assets\n"
     ]
    },
    {
     "name": "stderr",
     "output_type": "stream",
     "text": [
      "INFO:tensorflow:Assets written to: tic-tac-toe.model/assets\n"
     ]
    }
   ],
   "source": [
    "from sklearn.model_selection import train_test_split\n",
    "import tensorflow as tf\n",
    "from tensorflow.keras.models import Sequential\n",
    "from tensorflow.keras.layers import Dense\n",
    "\n",
    "\n",
    "\n",
    "X_train, X_test, y_train, y_test = train_test_split(X_scaled, y, test_size=0.2, random_state=42)\n",
    "\n",
    "model = Sequential()\n",
    "\n",
    "model.add(Dense(32, activation='relu', input_shape=(X_train.shape[1],)))\n",
    "model.add(Dense(64, activation='relu'))\n",
    "model.add(Dense(32, activation='relu'))\n",
    "model.add(Dense(2, activation='softmax')) \n",
    "\n",
    "model.compile(optimizer='adam',\n",
    "              loss='sparse_categorical_crossentropy',\n",
    "              metrics=['accuracy'])\n",
    "\n",
    "history = model.fit(X_train, y_train, epochs=10, validation_split=0.2)\n",
    "\n",
    "test_loss, test_acc = model.evaluate(X_test, y_test)\n",
    "print(f'Test accuracy: {test_acc}')\n",
    "\n",
    "model.save('tic-tac-toe.model')\n"
   ]
  },
  {
   "cell_type": "markdown",
   "metadata": {},
   "source": [
    "## Step 3: Make Predictions\n",
    "\n",
    "Now load your saved model and use it to make predictions on a few random rows in the test dataset. Check if the predictions are correct."
   ]
  },
  {
   "cell_type": "code",
   "execution_count": 13,
   "metadata": {},
   "outputs": [],
   "source": [
    "from tensorflow.keras.models import load_model\n",
    "\n",
    "model = load_model('tic-tac-toe.model')"
   ]
  },
  {
   "cell_type": "code",
   "execution_count": 15,
   "metadata": {},
   "outputs": [
    {
     "name": "stdout",
     "output_type": "stream",
     "text": [
      "1/1 [==============================] - 0s 123ms/step\n",
      "Sample 1:\n",
      "Predicted: 1, Actual: 0\n",
      "Sample 2:\n",
      "Predicted: 1, Actual: 0\n",
      "Sample 3:\n",
      "Predicted: 1, Actual: 1\n",
      "Sample 4:\n",
      "Predicted: 1, Actual: 1\n",
      "Sample 5:\n",
      "Predicted: 1, Actual: 1\n"
     ]
    }
   ],
   "source": [
    "# your code here\n",
    "import numpy as np\n",
    "\n",
    "\n",
    "num_samples = 5\n",
    "random_indices = np.random.choice(X_test.shape[0], num_samples, replace=False)\n",
    "X_sample = X_test[random_indices]\n",
    "y_sample_actual = y_test.iloc[random_indices]\n",
    "y_sample_pred = model.predict(X_sample)\n",
    "y_sample_pred_classes = np.argmax(y_sample_pred, axis=1)\n",
    "for i in range(num_samples):\n",
    "    print(f\"Sample {i+1}:\")\n",
    "    print(f\"Predicted: {y_sample_pred_classes[i]}, Actual: {y_sample_actual.iloc[i]}\")\n"
   ]
  },
  {
   "cell_type": "markdown",
   "metadata": {},
   "source": [
    "## Step 4: Improve Your Model\n",
    "\n",
    "Did your model achieve low loss (<0.1) and high accuracy (>0.95)? If not, try to improve your model.\n",
    "\n",
    "But how? There are so many things you can play with in Tensorflow and in the next challenge you'll learn about these things. But in this challenge, let's just do a few things to see if they will help.\n",
    "\n",
    "* Add more layers to your model. If the data are complex you need more layers. But don't use more layers than you need. If adding more layers does not improve the model performance you don't need additional layers.\n",
    "* Adjust the learning rate when you compile the model. This means you will create a custom `tf.keras.optimizers.Adam` instance where you specify the learning rate you want. Then pass the instance to `model.compile` as the optimizer.\n",
    "    * `tf.keras.optimizers.Adam` [reference](https://www.tensorflow.org/api_docs/python/tf/keras/optimizers/Adam).\n",
    "    * Don't worry if you don't understand what the learning rate does. You'll learn about it in the next challenge.\n",
    "* Adjust the number of epochs when you fit the training data to the model. Your model performance continues to improve as you train more epochs. But eventually it will reach the ceiling and the performance will stay the same."
   ]
  },
  {
   "cell_type": "code",
   "execution_count": 22,
   "metadata": {},
   "outputs": [
    {
     "name": "stdout",
     "output_type": "stream",
     "text": [
      "Epoch 1/30\n",
      "20/20 [==============================] - 2s 23ms/step - loss: 0.6395 - accuracy: 0.6454 - val_loss: 0.6080 - val_accuracy: 0.6818\n",
      "Epoch 2/30\n",
      "20/20 [==============================] - 0s 10ms/step - loss: 0.5831 - accuracy: 0.6667 - val_loss: 0.5998 - val_accuracy: 0.7078\n",
      "Epoch 3/30\n",
      "20/20 [==============================] - 0s 7ms/step - loss: 0.5447 - accuracy: 0.7222 - val_loss: 0.5852 - val_accuracy: 0.6818\n",
      "Epoch 4/30\n",
      "20/20 [==============================] - 0s 12ms/step - loss: 0.5005 - accuracy: 0.7794 - val_loss: 0.5639 - val_accuracy: 0.7208\n",
      "Epoch 5/30\n",
      "20/20 [==============================] - 0s 11ms/step - loss: 0.4664 - accuracy: 0.8170 - val_loss: 0.5239 - val_accuracy: 0.7727\n",
      "Epoch 6/30\n",
      "20/20 [==============================] - 0s 6ms/step - loss: 0.4018 - accuracy: 0.8448 - val_loss: 0.4832 - val_accuracy: 0.7792\n",
      "Epoch 7/30\n",
      "20/20 [==============================] - 0s 6ms/step - loss: 0.3576 - accuracy: 0.8595 - val_loss: 0.4568 - val_accuracy: 0.8052\n",
      "Epoch 8/30\n",
      "20/20 [==============================] - 0s 15ms/step - loss: 0.3178 - accuracy: 0.8840 - val_loss: 0.4716 - val_accuracy: 0.8117\n",
      "Epoch 9/30\n",
      "20/20 [==============================] - 0s 6ms/step - loss: 0.2929 - accuracy: 0.8742 - val_loss: 0.3979 - val_accuracy: 0.8247\n",
      "Epoch 10/30\n",
      "20/20 [==============================] - 0s 15ms/step - loss: 0.2391 - accuracy: 0.9199 - val_loss: 0.4963 - val_accuracy: 0.8117\n",
      "Epoch 11/30\n",
      "20/20 [==============================] - 0s 7ms/step - loss: 0.2009 - accuracy: 0.9314 - val_loss: 0.3712 - val_accuracy: 0.8442\n",
      "Epoch 12/30\n",
      "20/20 [==============================] - 0s 9ms/step - loss: 0.1572 - accuracy: 0.9330 - val_loss: 0.3394 - val_accuracy: 0.8377\n",
      "Epoch 13/30\n",
      "20/20 [==============================] - 0s 6ms/step - loss: 0.1174 - accuracy: 0.9673 - val_loss: 0.3454 - val_accuracy: 0.8571\n",
      "Epoch 14/30\n",
      "20/20 [==============================] - 0s 7ms/step - loss: 0.0919 - accuracy: 0.9820 - val_loss: 0.4039 - val_accuracy: 0.8571\n",
      "Epoch 15/30\n",
      "20/20 [==============================] - 0s 6ms/step - loss: 0.0766 - accuracy: 0.9886 - val_loss: 0.3374 - val_accuracy: 0.8442\n",
      "Epoch 16/30\n",
      "20/20 [==============================] - 0s 14ms/step - loss: 0.0545 - accuracy: 0.9951 - val_loss: 0.2912 - val_accuracy: 0.8701\n",
      "Epoch 17/30\n",
      "20/20 [==============================] - 0s 6ms/step - loss: 0.0338 - accuracy: 1.0000 - val_loss: 0.3403 - val_accuracy: 0.8766\n",
      "Epoch 18/30\n",
      "20/20 [==============================] - 0s 6ms/step - loss: 0.0242 - accuracy: 0.9984 - val_loss: 0.3200 - val_accuracy: 0.8831\n",
      "Epoch 19/30\n",
      "20/20 [==============================] - 0s 7ms/step - loss: 0.0258 - accuracy: 0.9967 - val_loss: 0.3564 - val_accuracy: 0.8636\n",
      "Epoch 20/30\n",
      "20/20 [==============================] - 0s 6ms/step - loss: 0.0145 - accuracy: 1.0000 - val_loss: 0.3461 - val_accuracy: 0.8831\n",
      "Epoch 21/30\n",
      "20/20 [==============================] - 0s 7ms/step - loss: 0.0097 - accuracy: 1.0000 - val_loss: 0.3586 - val_accuracy: 0.8831\n",
      "Epoch 22/30\n",
      "20/20 [==============================] - 0s 6ms/step - loss: 0.0071 - accuracy: 1.0000 - val_loss: 0.3564 - val_accuracy: 0.8766\n",
      "Epoch 23/30\n",
      "20/20 [==============================] - 0s 6ms/step - loss: 0.0056 - accuracy: 1.0000 - val_loss: 0.3618 - val_accuracy: 0.8896\n",
      "Epoch 24/30\n",
      "20/20 [==============================] - 0s 7ms/step - loss: 0.0046 - accuracy: 1.0000 - val_loss: 0.3399 - val_accuracy: 0.8896\n",
      "Epoch 25/30\n",
      "20/20 [==============================] - 0s 6ms/step - loss: 0.0040 - accuracy: 1.0000 - val_loss: 0.3617 - val_accuracy: 0.8896\n",
      "Epoch 26/30\n",
      "20/20 [==============================] - 0s 6ms/step - loss: 0.0034 - accuracy: 1.0000 - val_loss: 0.3617 - val_accuracy: 0.8896\n",
      "Epoch 27/30\n",
      "20/20 [==============================] - 0s 6ms/step - loss: 0.0031 - accuracy: 1.0000 - val_loss: 0.3709 - val_accuracy: 0.8831\n",
      "Epoch 28/30\n",
      "20/20 [==============================] - 0s 6ms/step - loss: 0.0027 - accuracy: 1.0000 - val_loss: 0.3749 - val_accuracy: 0.8896\n",
      "Epoch 29/30\n",
      "20/20 [==============================] - 0s 6ms/step - loss: 0.0024 - accuracy: 1.0000 - val_loss: 0.3757 - val_accuracy: 0.8896\n",
      "Epoch 30/30\n",
      "20/20 [==============================] - 0s 6ms/step - loss: 0.0021 - accuracy: 1.0000 - val_loss: 0.3880 - val_accuracy: 0.8896\n",
      "6/6 [==============================] - 0s 3ms/step - loss: 0.2861 - accuracy: 0.8906\n",
      "Test accuracy: 0.890625\n"
     ]
    }
   ],
   "source": [
    "model = Sequential()\n",
    "\n",
    "model.add(Dense(64, activation='relu', input_shape=(X_train.shape[1],)))\n",
    "model.add(Dense(128, activation='relu'))\n",
    "model.add(Dense(64, activation='relu'))\n",
    "model.add(Dense(32, activation='relu'))\n",
    "model.add(Dense(2, activation='softmax'))  \n",
    "\n",
    "from tensorflow.keras.optimizers import Adam\n",
    "\n",
    "learning_rate = 0.001  \n",
    "optimizer = Adam(learning_rate=learning_rate)\n",
    "\n",
    "model.compile(optimizer=optimizer,\n",
    "              loss='sparse_categorical_crossentropy',\n",
    "              metrics=['accuracy'])\n",
    "\n",
    "\n",
    "history = model.fit(X_train, y_train, epochs=30, validation_split=0.2)\n",
    "\n"
   ]
  },
  {
   "cell_type": "code",
   "execution_count": 23,
   "metadata": {},
   "outputs": [
    {
     "name": "stdout",
     "output_type": "stream",
     "text": [
      "6/6 [==============================] - 0s 3ms/step - loss: 0.2861 - accuracy: 0.8906\n",
      "Test accuracy: 0.890625\n"
     ]
    }
   ],
   "source": [
    "test_loss, test_acc = model.evaluate(X_test, y_test)\n",
    "print(f'Test accuracy: {test_acc}')"
   ]
  },
  {
   "cell_type": "markdown",
   "metadata": {},
   "source": [
    "**Which approach(es) did you find helpful to improve your model performance?**"
   ]
  },
  {
   "cell_type": "code",
   "execution_count": null,
   "metadata": {},
   "outputs": [],
   "source": [
    "# your answer here\n",
    "#adjusting learing rate and adding more layers"
   ]
  }
 ],
 "metadata": {
  "kernelspec": {
   "display_name": "Python 3",
   "language": "python",
   "name": "python3"
  },
  "language_info": {
   "codemirror_mode": {
    "name": "ipython",
    "version": 3
   },
   "file_extension": ".py",
   "mimetype": "text/x-python",
   "name": "python",
   "nbconvert_exporter": "python",
   "pygments_lexer": "ipython3",
   "version": "3.8.18"
  }
 },
 "nbformat": 4,
 "nbformat_minor": 2
}
