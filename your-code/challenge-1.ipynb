{
 "cells": [
  {
   "cell_type": "markdown",
   "metadata": {},
   "source": [
    "# Challenge 1 - Tic Tac Toe\n",
    "\n",
    "In this lab you will perform deep learning analysis on a dataset of playing [Tic Tac Toe](https://en.wikipedia.org/wiki/Tic-tac-toe).\n",
    "\n",
    "There are 9 grids in Tic Tac Toe that are coded as the following picture shows:\n",
    "\n",
    "![Tic Tac Toe Grids](tttboard.jpg)\n",
    "\n",
    "In the first 9 columns of the dataset you can find which marks (`x` or `o`) exist in the grids. If there is no mark in a certain grid, it is labeled as `b`. The last column is `class` which tells you whether Player X (who always moves first in Tic Tac Toe) wins in this configuration. Note that when `class` has the value `False`, it means either Player O wins the game or it ends up as a draw."
   ]
  },
  {
   "cell_type": "markdown",
   "metadata": {},
   "source": [
    "Follow the steps suggested below to conduct a neural network analysis using Tensorflow and Keras. You will build a deep learning model to predict whether Player X wins the game or not.\n",
    "\n",
    "## Step 1: Data Engineering\n",
    "\n",
    "This dataset is almost in the ready-to-use state so you do not need to worry about missing values and so on. Still, some simple data engineering is needed.\n",
    "\n",
    "1. Read `tic-tac-toe.csv` into a dataframe.\n",
    "1. Inspect the dataset. Determine if the dataset is reliable by eyeballing the data.\n",
    "1. Convert the categorical values to numeric in all columns.\n",
    "1. Separate the inputs and output.\n",
    "1. Normalize the input data."
   ]
  },
  {
   "cell_type": "code",
   "execution_count": 1,
   "metadata": {},
   "outputs": [],
   "source": [
    "import pandas as pd\n",
    "import numpy as np"
   ]
  },
  {
   "cell_type": "code",
   "execution_count": 2,
   "metadata": {},
   "outputs": [
    {
     "name": "stdout",
     "output_type": "stream",
     "text": [
      "  TL TM TR ML MM MR BL BM BR  class\n",
      "0  x  x  x  x  o  o  x  o  o   True\n",
      "1  x  x  x  x  o  o  o  x  o   True\n",
      "2  x  x  x  x  o  o  o  o  x   True\n",
      "3  x  x  x  x  o  o  o  b  b   True\n",
      "4  x  x  x  x  o  o  b  o  b   True\n",
      "5  x  x  x  x  o  o  b  b  o   True\n",
      "6  x  x  x  x  o  b  o  o  b   True\n",
      "7  x  x  x  x  o  b  o  b  o   True\n",
      "8  x  x  x  x  o  b  b  o  o   True\n",
      "9  x  x  x  x  b  o  o  o  b   True\n",
      "[ True False]\n"
     ]
    }
   ],
   "source": [
    "data_df = pd.read_csv('tic-tac-toe.csv')\n",
    "\n",
    "print(data_df.head(10))\n",
    "\n",
    "print(data_df['class'].unique())"
   ]
  },
  {
   "cell_type": "code",
   "execution_count": 3,
   "metadata": {},
   "outputs": [
    {
     "data": {
      "text/plain": [
       "TL       object\n",
       "TM       object\n",
       "TR       object\n",
       "ML       object\n",
       "MM       object\n",
       "MR       object\n",
       "BL       object\n",
       "BM       object\n",
       "BR       object\n",
       "class      bool\n",
       "dtype: object"
      ]
     },
     "execution_count": 3,
     "metadata": {},
     "output_type": "execute_result"
    }
   ],
   "source": [
    "data_df.dtypes"
   ]
  },
  {
   "cell_type": "code",
   "execution_count": 4,
   "metadata": {},
   "outputs": [
    {
     "name": "stdout",
     "output_type": "stream",
     "text": [
      "   TL  TM  TR  ML  MM  MR  BL  BM  BR  class\n",
      "0   0   0   0   0   1   1   0   1   1   True\n",
      "1   0   0   0   0   1   1   1   0   1   True\n",
      "2   0   0   0   0   1   1   1   1   0   True\n",
      "3   0   0   0   0   1   1   1   2   2   True\n",
      "4   0   0   0   0   1   1   2   1   2   True\n",
      "TL       int64\n",
      "TM       int64\n",
      "TR       int64\n",
      "ML       int64\n",
      "MM       int64\n",
      "MR       int64\n",
      "BL       int64\n",
      "BM       int64\n",
      "BR       int64\n",
      "class     bool\n",
      "dtype: object\n"
     ]
    },
    {
     "name": "stderr",
     "output_type": "stream",
     "text": [
      "/var/folders/t4/gbgxnn9j3sj48qv4ydr2n_100000gn/T/ipykernel_10440/2868151260.py:1: FutureWarning: Downcasting behavior in `replace` is deprecated and will be removed in a future version. To retain the old behavior, explicitly call `result.infer_objects(copy=False)`. To opt-in to the future behavior, set `pd.set_option('future.no_silent_downcasting', True)`\n",
      "  data_df = data_df.replace({'x' : 0, 'o' : 1, 'b' : 2})\n"
     ]
    }
   ],
   "source": [
    "data_df = data_df.replace({'x' : 0, 'o' : 1, 'b' : 2})\n",
    "\n",
    "print(data_df.head())\n",
    "\n",
    "print(data_df.dtypes)"
   ]
  },
  {
   "cell_type": "code",
   "execution_count": 5,
   "metadata": {},
   "outputs": [],
   "source": [
    "X = data_df.drop('class', axis = 1)\n",
    "y = data_df['class']"
   ]
  },
  {
   "cell_type": "code",
   "execution_count": 6,
   "metadata": {},
   "outputs": [
    {
     "name": "stdout",
     "output_type": "stream",
     "text": [
      "         TL        TM        TR        ML        MM        MR        BL  \\\n",
      "0 -1.002699 -1.084387 -1.002699 -1.084387  0.070114 -0.084387 -1.002699   \n",
      "1 -1.002699 -1.084387 -1.002699 -1.084387  0.070114 -0.084387 -0.002699   \n",
      "2 -1.002699 -1.084387 -1.002699 -1.084387  0.070114 -0.084387 -0.002699   \n",
      "3 -1.002699 -1.084387 -1.002699 -1.084387  0.070114 -0.084387 -0.002699   \n",
      "4 -1.002699 -1.084387 -1.002699 -1.084387  0.070114 -0.084387  0.997301   \n",
      "\n",
      "         BM        BR  \n",
      "0 -0.084387 -0.002699  \n",
      "1 -1.084387 -0.002699  \n",
      "2 -0.084387 -1.002699  \n",
      "3  0.915613  0.997301  \n",
      "4 -0.084387  0.997301  \n"
     ]
    }
   ],
   "source": [
    "X_norm = (X - X.mean() / X.std())\n",
    "\n",
    "print(X_norm.head())"
   ]
  },
  {
   "cell_type": "markdown",
   "metadata": {},
   "source": [
    "## Step 2: Build Neural Network\n",
    "\n",
    "To build the neural network, you can refer to your own codes you wrote while following the [Deep Learning with Python, TensorFlow, and Keras tutorial](https://www.youtube.com/watch?v=wQ8BIBpya2k) in the lesson. It's pretty similar to what you will be doing in this lab.\n",
    "\n",
    "1. Split the training and test data.\n",
    "1. Create a `Sequential` model.\n",
    "1. Add several layers to your model. Make sure you use ReLU as the activation function for the middle layers. Use Softmax for the output layer because each output has a single lable and all the label probabilities add up to 1.\n",
    "1. Compile the model using `adam` as the optimizer and `sparse_categorical_crossentropy` as the loss function. For metrics, use `accuracy` for now.\n",
    "1. Fit the training data.\n",
    "1. Evaluate your neural network model with the test data.\n",
    "1. Save your model as `tic-tac-toe.model`."
   ]
  },
  {
   "cell_type": "code",
   "execution_count": 9,
   "metadata": {},
   "outputs": [
    {
     "name": "stdout",
     "output_type": "stream",
     "text": [
      "Collecting tensorflow\n",
      "  Downloading tensorflow-2.18.0-cp312-cp312-macosx_12_0_arm64.whl.metadata (4.0 kB)\n",
      "Collecting absl-py>=1.0.0 (from tensorflow)\n",
      "  Downloading absl_py-2.1.0-py3-none-any.whl.metadata (2.3 kB)\n",
      "Collecting astunparse>=1.6.0 (from tensorflow)\n",
      "  Downloading astunparse-1.6.3-py2.py3-none-any.whl.metadata (4.4 kB)\n",
      "Collecting flatbuffers>=24.3.25 (from tensorflow)\n",
      "  Downloading flatbuffers-24.3.25-py2.py3-none-any.whl.metadata (850 bytes)\n",
      "Collecting gast!=0.5.0,!=0.5.1,!=0.5.2,>=0.2.1 (from tensorflow)\n",
      "  Downloading gast-0.6.0-py3-none-any.whl.metadata (1.3 kB)\n",
      "Collecting google-pasta>=0.1.1 (from tensorflow)\n",
      "  Downloading google_pasta-0.2.0-py3-none-any.whl.metadata (814 bytes)\n",
      "Collecting libclang>=13.0.0 (from tensorflow)\n",
      "  Downloading libclang-18.1.1-1-py2.py3-none-macosx_11_0_arm64.whl.metadata (5.2 kB)\n",
      "Collecting opt-einsum>=2.3.2 (from tensorflow)\n",
      "  Downloading opt_einsum-3.4.0-py3-none-any.whl.metadata (6.3 kB)\n",
      "Requirement already satisfied: packaging in /opt/anaconda3/lib/python3.12/site-packages (from tensorflow) (24.1)\n",
      "Requirement already satisfied: protobuf!=4.21.0,!=4.21.1,!=4.21.2,!=4.21.3,!=4.21.4,!=4.21.5,<6.0.0dev,>=3.20.3 in /opt/anaconda3/lib/python3.12/site-packages (from tensorflow) (4.25.3)\n",
      "Requirement already satisfied: requests<3,>=2.21.0 in /opt/anaconda3/lib/python3.12/site-packages (from tensorflow) (2.32.3)\n",
      "Requirement already satisfied: setuptools in /opt/anaconda3/lib/python3.12/site-packages (from tensorflow) (75.1.0)\n",
      "Requirement already satisfied: six>=1.12.0 in /opt/anaconda3/lib/python3.12/site-packages (from tensorflow) (1.16.0)\n",
      "Collecting termcolor>=1.1.0 (from tensorflow)\n",
      "  Downloading termcolor-2.5.0-py3-none-any.whl.metadata (6.1 kB)\n",
      "Requirement already satisfied: typing-extensions>=3.6.6 in /opt/anaconda3/lib/python3.12/site-packages (from tensorflow) (4.11.0)\n",
      "Requirement already satisfied: wrapt>=1.11.0 in /opt/anaconda3/lib/python3.12/site-packages (from tensorflow) (1.14.1)\n",
      "Collecting grpcio<2.0,>=1.24.3 (from tensorflow)\n",
      "  Downloading grpcio-1.68.1-cp312-cp312-macosx_10_9_universal2.whl.metadata (3.9 kB)\n",
      "Collecting tensorboard<2.19,>=2.18 (from tensorflow)\n",
      "  Downloading tensorboard-2.18.0-py3-none-any.whl.metadata (1.6 kB)\n",
      "Collecting keras>=3.5.0 (from tensorflow)\n",
      "  Downloading keras-3.7.0-py3-none-any.whl.metadata (5.8 kB)\n",
      "Requirement already satisfied: numpy<2.1.0,>=1.26.0 in /opt/anaconda3/lib/python3.12/site-packages (from tensorflow) (1.26.4)\n",
      "Requirement already satisfied: h5py>=3.11.0 in /opt/anaconda3/lib/python3.12/site-packages (from tensorflow) (3.11.0)\n",
      "Collecting ml-dtypes<0.5.0,>=0.4.0 (from tensorflow)\n",
      "  Downloading ml_dtypes-0.4.1-cp312-cp312-macosx_10_9_universal2.whl.metadata (20 kB)\n",
      "Requirement already satisfied: wheel<1.0,>=0.23.0 in /opt/anaconda3/lib/python3.12/site-packages (from astunparse>=1.6.0->tensorflow) (0.44.0)\n",
      "Requirement already satisfied: rich in /opt/anaconda3/lib/python3.12/site-packages (from keras>=3.5.0->tensorflow) (13.7.1)\n",
      "Collecting namex (from keras>=3.5.0->tensorflow)\n",
      "  Downloading namex-0.0.8-py3-none-any.whl.metadata (246 bytes)\n",
      "Collecting optree (from keras>=3.5.0->tensorflow)\n",
      "  Downloading optree-0.13.1-cp312-cp312-macosx_11_0_arm64.whl.metadata (47 kB)\n",
      "Requirement already satisfied: charset-normalizer<4,>=2 in /opt/anaconda3/lib/python3.12/site-packages (from requests<3,>=2.21.0->tensorflow) (3.3.2)\n",
      "Requirement already satisfied: idna<4,>=2.5 in /opt/anaconda3/lib/python3.12/site-packages (from requests<3,>=2.21.0->tensorflow) (3.7)\n",
      "Requirement already satisfied: urllib3<3,>=1.21.1 in /opt/anaconda3/lib/python3.12/site-packages (from requests<3,>=2.21.0->tensorflow) (2.2.3)\n",
      "Requirement already satisfied: certifi>=2017.4.17 in /opt/anaconda3/lib/python3.12/site-packages (from requests<3,>=2.21.0->tensorflow) (2024.8.30)\n",
      "Requirement already satisfied: markdown>=2.6.8 in /opt/anaconda3/lib/python3.12/site-packages (from tensorboard<2.19,>=2.18->tensorflow) (3.4.1)\n",
      "Collecting tensorboard-data-server<0.8.0,>=0.7.0 (from tensorboard<2.19,>=2.18->tensorflow)\n",
      "  Downloading tensorboard_data_server-0.7.2-py3-none-any.whl.metadata (1.1 kB)\n",
      "Requirement already satisfied: werkzeug>=1.0.1 in /opt/anaconda3/lib/python3.12/site-packages (from tensorboard<2.19,>=2.18->tensorflow) (3.0.3)\n",
      "Requirement already satisfied: MarkupSafe>=2.1.1 in /opt/anaconda3/lib/python3.12/site-packages (from werkzeug>=1.0.1->tensorboard<2.19,>=2.18->tensorflow) (2.1.3)\n",
      "Requirement already satisfied: markdown-it-py>=2.2.0 in /opt/anaconda3/lib/python3.12/site-packages (from rich->keras>=3.5.0->tensorflow) (2.2.0)\n",
      "Requirement already satisfied: pygments<3.0.0,>=2.13.0 in /opt/anaconda3/lib/python3.12/site-packages (from rich->keras>=3.5.0->tensorflow) (2.15.1)\n",
      "Requirement already satisfied: mdurl~=0.1 in /opt/anaconda3/lib/python3.12/site-packages (from markdown-it-py>=2.2.0->rich->keras>=3.5.0->tensorflow) (0.1.0)\n",
      "Downloading tensorflow-2.18.0-cp312-cp312-macosx_12_0_arm64.whl (239.6 MB)\n",
      "\u001b[2K   \u001b[90m━━━━━━━━━━━━━━━━━━━━━━━━━━━━━━━━━━━━━━━━\u001b[0m \u001b[32m239.6/239.6 MB\u001b[0m \u001b[31m31.7 MB/s\u001b[0m eta \u001b[36m0:00:00\u001b[0m00:01\u001b[0m00:01\u001b[0m\n",
      "\u001b[?25hDownloading absl_py-2.1.0-py3-none-any.whl (133 kB)\n",
      "Downloading astunparse-1.6.3-py2.py3-none-any.whl (12 kB)\n",
      "Downloading flatbuffers-24.3.25-py2.py3-none-any.whl (26 kB)\n",
      "Downloading gast-0.6.0-py3-none-any.whl (21 kB)\n",
      "Downloading google_pasta-0.2.0-py3-none-any.whl (57 kB)\n",
      "Downloading grpcio-1.68.1-cp312-cp312-macosx_10_9_universal2.whl (11.1 MB)\n",
      "\u001b[2K   \u001b[90m━━━━━━━━━━━━━━━━━━━━━━━━━━━━━━━━━━━━━━━━\u001b[0m \u001b[32m11.1/11.1 MB\u001b[0m \u001b[31m31.9 MB/s\u001b[0m eta \u001b[36m0:00:00\u001b[0m \u001b[36m0:00:01\u001b[0m\n",
      "\u001b[?25hDownloading keras-3.7.0-py3-none-any.whl (1.2 MB)\n",
      "\u001b[2K   \u001b[90m━━━━━━━━━━━━━━━━━━━━━━━━━━━━━━━━━━━━━━━━\u001b[0m \u001b[32m1.2/1.2 MB\u001b[0m \u001b[31m25.7 MB/s\u001b[0m eta \u001b[36m0:00:00\u001b[0m\n",
      "\u001b[?25hDownloading libclang-18.1.1-1-py2.py3-none-macosx_11_0_arm64.whl (25.8 MB)\n",
      "\u001b[2K   \u001b[90m━━━━━━━━━━━━━━━━━━━━━━━━━━━━━━━━━━━━━━━━\u001b[0m \u001b[32m25.8/25.8 MB\u001b[0m \u001b[31m20.8 MB/s\u001b[0m eta \u001b[36m0:00:00\u001b[0ma \u001b[36m0:00:01\u001b[0m\n",
      "\u001b[?25hDownloading ml_dtypes-0.4.1-cp312-cp312-macosx_10_9_universal2.whl (405 kB)\n",
      "Downloading opt_einsum-3.4.0-py3-none-any.whl (71 kB)\n",
      "Downloading tensorboard-2.18.0-py3-none-any.whl (5.5 MB)\n",
      "\u001b[2K   \u001b[90m━━━━━━━━━━━━━━━━━━━━━━━━━━━━━━━━━━━━━━━━\u001b[0m \u001b[32m5.5/5.5 MB\u001b[0m \u001b[31m31.0 MB/s\u001b[0m eta \u001b[36m0:00:00\u001b[0m\n",
      "\u001b[?25hDownloading termcolor-2.5.0-py3-none-any.whl (7.8 kB)\n",
      "Downloading tensorboard_data_server-0.7.2-py3-none-any.whl (2.4 kB)\n",
      "Downloading namex-0.0.8-py3-none-any.whl (5.8 kB)\n",
      "Downloading optree-0.13.1-cp312-cp312-macosx_11_0_arm64.whl (322 kB)\n",
      "Installing collected packages: namex, libclang, flatbuffers, termcolor, tensorboard-data-server, optree, opt-einsum, ml-dtypes, grpcio, google-pasta, gast, astunparse, absl-py, tensorboard, keras, tensorflow\n",
      "Successfully installed absl-py-2.1.0 astunparse-1.6.3 flatbuffers-24.3.25 gast-0.6.0 google-pasta-0.2.0 grpcio-1.68.1 keras-3.7.0 libclang-18.1.1 ml-dtypes-0.4.1 namex-0.0.8 opt-einsum-3.4.0 optree-0.13.1 tensorboard-2.18.0 tensorboard-data-server-0.7.2 tensorflow-2.18.0 termcolor-2.5.0\n"
     ]
    }
   ],
   "source": [
    "!pip install tensorflow"
   ]
  },
  {
   "cell_type": "code",
   "execution_count": 7,
   "metadata": {},
   "outputs": [],
   "source": [
    "# Split into training and test data\n",
    "\n",
    "from sklearn.model_selection import train_test_split\n",
    "\n",
    "X_train, X_test, y_train, y_test = train_test_split(X_norm, y, test_size = 0.2, random_state = 42)"
   ]
  },
  {
   "cell_type": "code",
   "execution_count": 10,
   "metadata": {},
   "outputs": [
    {
     "name": "stderr",
     "output_type": "stream",
     "text": [
      "Matplotlib is building the font cache; this may take a moment.\n",
      "/opt/anaconda3/lib/python3.12/site-packages/keras/src/layers/core/dense.py:87: UserWarning: Do not pass an `input_shape`/`input_dim` argument to a layer. When using Sequential models, prefer using an `Input(shape)` object as the first layer in the model instead.\n",
      "  super().__init__(activity_regularizer=activity_regularizer, **kwargs)\n"
     ]
    }
   ],
   "source": [
    "# Create a sequential model\n",
    "\n",
    "from tensorflow import keras\n",
    "from keras.models import Sequential\n",
    "from keras.layers import Dense\n",
    "\n",
    "n_cols = X_norm.shape[1]\n",
    "\n",
    "model_seq = Sequential()\n",
    "\n",
    "# Input layer\n",
    "\n",
    "model_seq.add(Dense(64, activation = 'relu', input_dim = (n_cols)))\n",
    "\n",
    "# Hidden layer 1\n",
    "\n",
    "model_seq.add(Dense(32, activation = 'relu'))\n",
    "\n",
    "# Output layer\n",
    "\n",
    "model_seq.add(Dense(2, activation = 'softmax'))\n",
    "\n",
    "# Compile the model\n",
    "\n",
    "model_seq.compile(optimizer='adam', loss='sparse_categorical_crossentropy', metrics=['accuracy'])"
   ]
  },
  {
   "cell_type": "code",
   "execution_count": 11,
   "metadata": {},
   "outputs": [
    {
     "name": "stdout",
     "output_type": "stream",
     "text": [
      "Epoch 1/20\n",
      "30/30 - 0s - 11ms/step - accuracy: 0.6033 - loss: 0.6511\n",
      "Epoch 2/20\n",
      "30/30 - 0s - 1ms/step - accuracy: 0.6701 - loss: 0.5958\n",
      "Epoch 3/20\n",
      "30/30 - 0s - 937us/step - accuracy: 0.7056 - loss: 0.5647\n",
      "Epoch 4/20\n",
      "30/30 - 0s - 783us/step - accuracy: 0.7359 - loss: 0.5396\n",
      "Epoch 5/20\n",
      "30/30 - 0s - 807us/step - accuracy: 0.7568 - loss: 0.5153\n",
      "Epoch 6/20\n",
      "30/30 - 0s - 783us/step - accuracy: 0.7797 - loss: 0.4936\n",
      "Epoch 7/20\n",
      "30/30 - 0s - 803us/step - accuracy: 0.7965 - loss: 0.4692\n",
      "Epoch 8/20\n",
      "30/30 - 0s - 938us/step - accuracy: 0.8079 - loss: 0.4492\n",
      "Epoch 9/20\n",
      "30/30 - 0s - 832us/step - accuracy: 0.8257 - loss: 0.4278\n",
      "Epoch 10/20\n",
      "30/30 - 0s - 813us/step - accuracy: 0.8518 - loss: 0.4044\n",
      "Epoch 11/20\n",
      "30/30 - 0s - 835us/step - accuracy: 0.8466 - loss: 0.3864\n",
      "Epoch 12/20\n",
      "30/30 - 0s - 787us/step - accuracy: 0.8601 - loss: 0.3697\n",
      "Epoch 13/20\n",
      "30/30 - 0s - 772us/step - accuracy: 0.8716 - loss: 0.3520\n",
      "Epoch 14/20\n",
      "30/30 - 0s - 781us/step - accuracy: 0.8685 - loss: 0.3402\n",
      "Epoch 15/20\n",
      "30/30 - 0s - 778us/step - accuracy: 0.8664 - loss: 0.3286\n",
      "Epoch 16/20\n",
      "30/30 - 0s - 791us/step - accuracy: 0.8852 - loss: 0.3108\n",
      "Epoch 17/20\n",
      "30/30 - 0s - 780us/step - accuracy: 0.8914 - loss: 0.3012\n",
      "Epoch 18/20\n",
      "30/30 - 0s - 768us/step - accuracy: 0.8956 - loss: 0.2881\n",
      "Epoch 19/20\n",
      "30/30 - 0s - 762us/step - accuracy: 0.8967 - loss: 0.2758\n",
      "Epoch 20/20\n",
      "30/30 - 0s - 1ms/step - accuracy: 0.9040 - loss: 0.2637\n"
     ]
    },
    {
     "data": {
      "text/plain": [
       "<keras.src.callbacks.history.History at 0x345aec200>"
      ]
     },
     "execution_count": 11,
     "metadata": {},
     "output_type": "execute_result"
    }
   ],
   "source": [
    "# Fit the training data\n",
    "\n",
    "model_seq.fit(X_norm, y, epochs = 20, verbose = 2)"
   ]
  },
  {
   "cell_type": "code",
   "execution_count": 12,
   "metadata": {},
   "outputs": [
    {
     "name": "stdout",
     "output_type": "stream",
     "text": [
      "\u001b[1m6/6\u001b[0m \u001b[32m━━━━━━━━━━━━━━━━━━━━\u001b[0m\u001b[37m\u001b[0m \u001b[1m0s\u001b[0m 2ms/step - accuracy: 0.8862 - loss: 0.2485 \n",
      "Loss: 0.2465, Accuracy: 0.8958\n"
     ]
    }
   ],
   "source": [
    "loss, accuracy = model_seq.evaluate(X_test, y_test)\n",
    "print(f'Loss: {loss:.4f}, Accuracy: {accuracy:.4f}')"
   ]
  },
  {
   "cell_type": "code",
   "execution_count": 13,
   "metadata": {},
   "outputs": [],
   "source": [
    "# Saving model\n",
    "\n",
    "model_seq.save('model_tic-tac-toe.keras')"
   ]
  },
  {
   "cell_type": "markdown",
   "metadata": {},
   "source": [
    "## Step 3: Make Predictions\n",
    "\n",
    "Now load your saved model and use it to make predictions on a few random rows in the test dataset. Check if the predictions are correct."
   ]
  },
  {
   "cell_type": "code",
   "execution_count": 14,
   "metadata": {},
   "outputs": [],
   "source": [
    "from tensorflow.keras.models import load_model\n",
    "\n",
    "loaded_model = load_model('model_tic-tac-toe.keras')"
   ]
  },
  {
   "cell_type": "code",
   "execution_count": 15,
   "metadata": {},
   "outputs": [
    {
     "name": "stdout",
     "output_type": "stream",
     "text": [
      "\u001b[1m1/1\u001b[0m \u001b[32m━━━━━━━━━━━━━━━━━━━━\u001b[0m\u001b[37m\u001b[0m \u001b[1m0s\u001b[0m 20ms/step\n",
      "Actual Labels:     [False, True, True]\n",
      "Predicted Labels:  [array([0, 1]), array([0, 1]), array([0, 1])]\n"
     ]
    }
   ],
   "source": [
    "# Select specific rows\n",
    "sample_rows = X_test.iloc[[0, 5, 10]]\n",
    "sample_labels = y_test.iloc[[0, 5, 10]]\n",
    "\n",
    "# Make predictions\n",
    "predictions = loaded_model.predict(sample_rows)\n",
    "predicted_labels = (predictions > 0.5).astype(int)  # For binary classificatiion\n",
    "\n",
    "# Print the results\n",
    "print(\"Actual Labels:    \", list(sample_labels))\n",
    "print(\"Predicted Labels: \", list(predicted_labels))"
   ]
  },
  {
   "cell_type": "markdown",
   "metadata": {},
   "source": [
    "## Step 4: Improve Your Model\n",
    "\n",
    "Did your model achieve low loss (<0.1) and high accuracy (>0.95)? If not, try to improve your model.\n",
    "\n",
    "But how? There are so many things you can play with in Tensorflow and in the next challenge you'll learn about these things. But in this challenge, let's just do a few things to see if they will help.\n",
    "\n",
    "* Add more layers to your model. If the data are complex you need more layers. But don't use more layers than you need. If adding more layers does not improve the model performance you don't need additional layers.\n",
    "* Adjust the learning rate when you compile the model. This means you will create a custom `tf.keras.optimizers.Adam` instance where you specify the learning rate you want. Then pass the instance to `model.compile` as the optimizer.\n",
    "    * `tf.keras.optimizers.Adam` [reference](https://www.tensorflow.org/api_docs/python/tf/keras/optimizers/Adam).\n",
    "    * Don't worry if you don't understand what the learning rate does. You'll learn about it in the next challenge.\n",
    "* Adjust the number of epochs when you fit the training data to the model. Your model performance continues to improve as you train more epochs. But eventually it will reach the ceiling and the performance will stay the same."
   ]
  },
  {
   "cell_type": "code",
   "execution_count": 16,
   "metadata": {},
   "outputs": [
    {
     "name": "stdout",
     "output_type": "stream",
     "text": [
      "Epoch 1/30\n"
     ]
    },
    {
     "name": "stderr",
     "output_type": "stream",
     "text": [
      "/opt/anaconda3/lib/python3.12/site-packages/keras/src/layers/core/dense.py:87: UserWarning: Do not pass an `input_shape`/`input_dim` argument to a layer. When using Sequential models, prefer using an `Input(shape)` object as the first layer in the model instead.\n",
      "  super().__init__(activity_regularizer=activity_regularizer, **kwargs)\n"
     ]
    },
    {
     "name": "stdout",
     "output_type": "stream",
     "text": [
      "30/30 - 0s - 9ms/step - accuracy: 0.5825 - loss: 0.6608\n",
      "Epoch 2/30\n",
      "30/30 - 0s - 950us/step - accuracy: 0.6597 - loss: 0.6177\n",
      "Epoch 3/30\n",
      "30/30 - 0s - 905us/step - accuracy: 0.6670 - loss: 0.5974\n",
      "Epoch 4/30\n",
      "30/30 - 0s - 811us/step - accuracy: 0.6942 - loss: 0.5796\n",
      "Epoch 5/30\n",
      "30/30 - 0s - 796us/step - accuracy: 0.7140 - loss: 0.5642\n",
      "Epoch 6/30\n",
      "30/30 - 0s - 790us/step - accuracy: 0.7443 - loss: 0.5501\n",
      "Epoch 7/30\n",
      "30/30 - 0s - 788us/step - accuracy: 0.7484 - loss: 0.5359\n",
      "Epoch 8/30\n",
      "30/30 - 0s - 776us/step - accuracy: 0.7526 - loss: 0.5220\n",
      "Epoch 9/30\n",
      "30/30 - 0s - 813us/step - accuracy: 0.7651 - loss: 0.5090\n",
      "Epoch 10/30\n",
      "30/30 - 0s - 802us/step - accuracy: 0.7808 - loss: 0.4966\n",
      "Epoch 11/30\n",
      "30/30 - 0s - 807us/step - accuracy: 0.7891 - loss: 0.4833\n",
      "Epoch 12/30\n",
      "30/30 - 0s - 1ms/step - accuracy: 0.8048 - loss: 0.4711\n",
      "Epoch 13/30\n",
      "30/30 - 0s - 865us/step - accuracy: 0.8038 - loss: 0.4581\n",
      "Epoch 14/30\n",
      "30/30 - 0s - 1ms/step - accuracy: 0.8257 - loss: 0.4465\n",
      "Epoch 15/30\n",
      "30/30 - 0s - 787us/step - accuracy: 0.8267 - loss: 0.4345\n",
      "Epoch 16/30\n",
      "30/30 - 0s - 815us/step - accuracy: 0.8382 - loss: 0.4236\n",
      "Epoch 17/30\n",
      "30/30 - 0s - 788us/step - accuracy: 0.8392 - loss: 0.4123\n",
      "Epoch 18/30\n",
      "30/30 - 0s - 768us/step - accuracy: 0.8486 - loss: 0.4019\n",
      "Epoch 19/30\n",
      "30/30 - 0s - 775us/step - accuracy: 0.8466 - loss: 0.3932\n",
      "Epoch 20/30\n",
      "30/30 - 0s - 769us/step - accuracy: 0.8539 - loss: 0.3843\n",
      "Epoch 21/30\n",
      "30/30 - 0s - 799us/step - accuracy: 0.8570 - loss: 0.3737\n",
      "Epoch 22/30\n",
      "30/30 - 0s - 775us/step - accuracy: 0.8591 - loss: 0.3656\n",
      "Epoch 23/30\n",
      "30/30 - 0s - 748us/step - accuracy: 0.8612 - loss: 0.3586\n",
      "Epoch 24/30\n",
      "30/30 - 0s - 784us/step - accuracy: 0.8674 - loss: 0.3524\n",
      "Epoch 25/30\n",
      "30/30 - 0s - 769us/step - accuracy: 0.8716 - loss: 0.3433\n",
      "Epoch 26/30\n",
      "30/30 - 0s - 747us/step - accuracy: 0.8779 - loss: 0.3371\n",
      "Epoch 27/30\n",
      "30/30 - 0s - 782us/step - accuracy: 0.8685 - loss: 0.3299\n",
      "Epoch 28/30\n",
      "30/30 - 0s - 861us/step - accuracy: 0.8779 - loss: 0.3257\n",
      "Epoch 29/30\n",
      "30/30 - 0s - 836us/step - accuracy: 0.8831 - loss: 0.3178\n",
      "Epoch 30/30\n",
      "30/30 - 0s - 815us/step - accuracy: 0.8841 - loss: 0.3115\n",
      "\u001b[1m6/6\u001b[0m \u001b[32m━━━━━━━━━━━━━━━━━━━━\u001b[0m\u001b[37m\u001b[0m \u001b[1m0s\u001b[0m 2ms/step - accuracy: 0.9013 - loss: 0.3024 \n",
      "Loss: 0.3068, Accuracy: 0.8854\n"
     ]
    }
   ],
   "source": [
    "# Create a custom Adam optimizer with a specified learning rate\n",
    "\n",
    "import tensorflow as tf\n",
    "\n",
    "model_seq_opt = Sequential([\n",
    "    Dense(64, activation='relu', input_dim=(n_cols)),\n",
    "    Dense(32, activation='relu'),\n",
    "    Dense(2, activation='softmax')\n",
    "])\n",
    "\n",
    "learning_rate = 0.0005 \n",
    "custom_optimizer = tf.keras.optimizers.Adam(learning_rate=learning_rate)\n",
    "\n",
    "model_seq_opt.compile(optimizer=custom_optimizer,\n",
    "              loss='sparse_categorical_crossentropy', \n",
    "              metrics=['accuracy'])\n",
    "\n",
    "# Train the new model\n",
    "model_seq_opt.fit(X_norm, y, epochs=30, verbose=2)\n",
    "\n",
    "# Evaluate the model\n",
    "loss, accuracy = model_seq_opt.evaluate(X_test, y_test)\n",
    "print(f'Loss: {loss:.4f}, Accuracy: {accuracy:.4f}')"
   ]
  },
  {
   "cell_type": "markdown",
   "metadata": {},
   "source": [
    "**Which approach(es) did you find helpful to improve your model performance?**"
   ]
  },
  {
   "cell_type": "code",
   "execution_count": 17,
   "metadata": {},
   "outputs": [],
   "source": [
    "# running more epochs worked best"
   ]
  }
 ],
 "metadata": {
  "kernelspec": {
   "display_name": "base",
   "language": "python",
   "name": "python3"
  },
  "language_info": {
   "codemirror_mode": {
    "name": "ipython",
    "version": 3
   },
   "file_extension": ".py",
   "mimetype": "text/x-python",
   "name": "python",
   "nbconvert_exporter": "python",
   "pygments_lexer": "ipython3",
   "version": "3.12.7"
  }
 },
 "nbformat": 4,
 "nbformat_minor": 2
}
