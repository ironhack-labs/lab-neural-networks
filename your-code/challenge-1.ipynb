{
 "cells": [
  {
   "cell_type": "markdown",
   "metadata": {},
   "source": [
    "# Challenge 1 - Tic Tac Toe\n",
    "\n",
    "In this lab you will perform deep learning analysis on a dataset of playing [Tic Tac Toe](https://en.wikipedia.org/wiki/Tic-tac-toe).\n",
    "\n",
    "There are 9 grids in Tic Tac Toe that are coded as the following picture shows:\n",
    "\n",
    "![Tic Tac Toe Grids](tttboard.jpg)\n",
    "\n",
    "In the first 9 columns of the dataset you can find which marks (`x` or `o`) exist in the grids. If there is no mark in a certain grid, it is labeled as `b`. The last column is `class` which tells you whether Player X (who always moves first in Tic Tac Toe) wins in this configuration. Note that when `class` has the value `False`, it means either Player O wins the game or it ends up as a draw."
   ]
  },
  {
   "cell_type": "markdown",
   "metadata": {},
   "source": [
    "Follow the steps suggested below to conduct a neural network analysis using Tensorflow and Keras. You will build a deep learning model to predict whether Player X wins the game or not.\n",
    "\n",
    "## Step 1: Data Engineering\n",
    "\n",
    "This dataset is almost in the ready-to-use state so you do not need to worry about missing values and so on. Still, some simple data engineering is needed.\n",
    "\n",
    "1. Read `tic-tac-toe.csv` into a dataframe.\n",
    "1. Inspect the dataset. Determine if the dataset is reliable by eyeballing the data.\n",
    "1. Convert the categorical values to numeric in all columns.\n",
    "1. Separate the inputs and output.\n",
    "1. Normalize the input data."
   ]
  },
  {
   "cell_type": "code",
   "execution_count": 107,
   "metadata": {},
   "outputs": [
    {
     "name": "stdout",
     "output_type": "stream",
     "text": [
      "  TL TM TR ML MM MR BL BM BR  class\n",
      "0  x  x  x  x  o  o  x  o  o   True\n",
      "1  x  x  x  x  o  o  o  x  o   True\n",
      "2  x  x  x  x  o  o  o  o  x   True\n",
      "3  x  x  x  x  o  o  o  b  b   True\n",
      "4  x  x  x  x  o  o  b  o  b   True\n"
     ]
    }
   ],
   "source": [
    "# your code here\n",
    "import pandas as pd\n",
    "from sklearn.model_selection import train_test_split\n",
    "\n",
    "df = pd.read_csv('tic-tac-toe.csv')\n",
    "\n",
    "print(df.head())\n",
    "\n"
   ]
  },
  {
   "cell_type": "code",
   "execution_count": 108,
   "metadata": {},
   "outputs": [
    {
     "name": "stdout",
     "output_type": "stream",
     "text": [
      "  TL TM TR ML MM MR BL BM BR  class\n",
      "0  x  x  x  x  o  o  x  o  o   True\n",
      "1  x  x  x  x  o  o  o  x  o   True\n",
      "2  x  x  x  x  o  o  o  o  x   True\n",
      "3  x  x  x  x  o  o  o  b  b   True\n",
      "4  x  x  x  x  o  o  b  o  b   True\n",
      "<class 'pandas.core.frame.DataFrame'>\n",
      "RangeIndex: 958 entries, 0 to 957\n",
      "Data columns (total 10 columns):\n",
      " #   Column  Non-Null Count  Dtype \n",
      "---  ------  --------------  ----- \n",
      " 0   TL      958 non-null    object\n",
      " 1   TM      958 non-null    object\n",
      " 2   TR      958 non-null    object\n",
      " 3   ML      958 non-null    object\n",
      " 4   MM      958 non-null    object\n",
      " 5   MR      958 non-null    object\n",
      " 6   BL      958 non-null    object\n",
      " 7   BM      958 non-null    object\n",
      " 8   BR      958 non-null    object\n",
      " 9   class   958 non-null    bool  \n",
      "dtypes: bool(1), object(9)\n",
      "memory usage: 68.4+ KB\n",
      "None\n",
      "TL       0\n",
      "TM       0\n",
      "TR       0\n",
      "ML       0\n",
      "MM       0\n",
      "MR       0\n",
      "BL       0\n",
      "BM       0\n",
      "BR       0\n",
      "class    0\n",
      "dtype: int64\n"
     ]
    }
   ],
   "source": [
    "print(df.head())\n",
    "print(df.info())\n",
    "print(df.isnull().sum())"
   ]
  },
  {
   "cell_type": "code",
   "execution_count": 109,
   "metadata": {},
   "outputs": [],
   "source": [
    "# Apply explicit mapping for grid features\n",
    "# Map 'x' -> 1, 'o' -> -1, 'b' -> 0\n",
    "value_map = {'x': 1, 'o': -1, 'b': 0}\n",
    "for col in df.columns[:-1]:  # Skip the last column which is the target ('class')\n",
    "    df[col] = df[col].map(value_map)"
   ]
  },
  {
   "cell_type": "code",
   "execution_count": 110,
   "metadata": {},
   "outputs": [],
   "source": [
    "X = df.drop(columns=['class'])\n",
    "y = df['class']"
   ]
  },
  {
   "cell_type": "code",
   "execution_count": 111,
   "metadata": {},
   "outputs": [
    {
     "name": "stdout",
     "output_type": "stream",
     "text": [
      "     TL  TM  TR  ML  MM  MR  BL  BM  BR\n",
      "302  -1   1   1  -1   1  -1   0   1   0\n",
      "467  -1   0  -1  -1   1   0   1   1   1\n",
      "294   1   0   0   0   1   0  -1  -1   1\n",
      "548   0  -1   1  -1   0   1   0   0   1\n",
      "465  -1   0  -1   1  -1   0   1   1   1\n",
      "302    True\n",
      "467    True\n",
      "294    True\n",
      "548    True\n",
      "465    True\n",
      "Name: class, dtype: bool\n"
     ]
    }
   ],
   "source": [
    "x_train, x_test, y_train, y_test = train_test_split(X, y, test_size=0.2, random_state=42)\n",
    "\n",
    "# Print the first few rows to verify\n",
    "print(x_train.head())\n",
    "print(y_train.head())"
   ]
  },
  {
   "cell_type": "markdown",
   "metadata": {},
   "source": [
    "## Step 2: Build Neural Network\n",
    "\n",
    "To build the neural network, you can refer to your own codes you wrote while following the [Deep Learning with Python, TensorFlow, and Keras tutorial](https://www.youtube.com/watch?v=wQ8BIBpya2k) in the lesson. It's pretty similar to what you will be doing in this lab.\n",
    "\n",
    "1. Split the training and test data.\n",
    "1. Create a `Sequential` model.\n",
    "1. Add several layers to your model. Make sure you use ReLU as the activation function for the middle layers. Use Softmax for the output layer because each output has a single lable and all the label probabilities add up to 1.\n",
    "1. Compile the model using `adam` as the optimizer and `sparse_categorical_crossentropy` as the loss function. For metrics, use `accuracy` for now.\n",
    "1. Fit the training data.\n",
    "1. Evaluate your neural network model with the test data.\n",
    "1. Save your model as `tic-tac-toe.model`."
   ]
  },
  {
   "cell_type": "code",
   "execution_count": 112,
   "metadata": {},
   "outputs": [],
   "source": [
    "# your code here\n",
    "import tensorflow as tf\n",
    "from tensorflow import keras\n",
    "from keras import layers\n",
    "from keras import models"
   ]
  },
  {
   "cell_type": "markdown",
   "metadata": {},
   "source": [
    "Step 1: Split the Traning and test Data"
   ]
  },
  {
   "cell_type": "code",
   "execution_count": 113,
   "metadata": {},
   "outputs": [],
   "source": [
    "model = models.Sequential()\n",
    "\n",
    "model.add(layers.Dense(64, activation='relu', input_shape=(x_train.shape[1],)))\n",
    "model.add(layers.Dense(32, activation='relu'))\n",
    "model.add(layers.Dense(1, activation='sigmoid'))\n",
    "\n",
    "\n"
   ]
  },
  {
   "cell_type": "markdown",
   "metadata": {},
   "source": [
    "Step 2: Compile the model"
   ]
  },
  {
   "cell_type": "code",
   "execution_count": 114,
   "metadata": {},
   "outputs": [],
   "source": [
    "model.compile(optimizer='adam', loss='binary_crossentropy', metrics=['accuracy'])"
   ]
  },
  {
   "cell_type": "markdown",
   "metadata": {},
   "source": [
    "## Step 3: Make Predictions\n",
    "\n",
    "Now load your saved model and use it to make predictions on a few random rows in the test dataset. Check if the predictions are correct."
   ]
  },
  {
   "cell_type": "code",
   "execution_count": 118,
   "metadata": {},
   "outputs": [
    {
     "name": "stdout",
     "output_type": "stream",
     "text": [
      "Epoch 1/20\n",
      "31/31 [==============================] - 5s 155ms/step - loss: 0.0098 - accuracy: 1.0000 - val_loss: 0.0443 - val_accuracy: 0.9870\n",
      "Epoch 2/20\n",
      "31/31 [==============================] - 5s 152ms/step - loss: 0.0091 - accuracy: 1.0000 - val_loss: 0.0409 - val_accuracy: 0.9870\n",
      "Epoch 3/20\n",
      "31/31 [==============================] - 2s 74ms/step - loss: 0.0081 - accuracy: 1.0000 - val_loss: 0.0415 - val_accuracy: 0.9870\n",
      "Epoch 4/20\n",
      "31/31 [==============================] - 2s 81ms/step - loss: 0.0073 - accuracy: 1.0000 - val_loss: 0.0390 - val_accuracy: 0.9870\n",
      "Epoch 5/20\n",
      "31/31 [==============================] - 2s 49ms/step - loss: 0.0066 - accuracy: 1.0000 - val_loss: 0.0393 - val_accuracy: 0.9870\n",
      "Epoch 6/20\n",
      "31/31 [==============================] - 1s 30ms/step - loss: 0.0061 - accuracy: 1.0000 - val_loss: 0.0383 - val_accuracy: 0.9870\n",
      "Epoch 7/20\n",
      "31/31 [==============================] - 2s 51ms/step - loss: 0.0058 - accuracy: 1.0000 - val_loss: 0.0373 - val_accuracy: 0.9870\n",
      "Epoch 8/20\n",
      "31/31 [==============================] - 1s 35ms/step - loss: 0.0054 - accuracy: 1.0000 - val_loss: 0.0383 - val_accuracy: 0.9870\n",
      "Epoch 9/20\n",
      "31/31 [==============================] - 2s 70ms/step - loss: 0.0048 - accuracy: 1.0000 - val_loss: 0.0367 - val_accuracy: 0.9870\n",
      "Epoch 10/20\n",
      "31/31 [==============================] - 2s 58ms/step - loss: 0.0045 - accuracy: 1.0000 - val_loss: 0.0350 - val_accuracy: 0.9870\n",
      "Epoch 11/20\n",
      "31/31 [==============================] - 2s 60ms/step - loss: 0.0041 - accuracy: 1.0000 - val_loss: 0.0350 - val_accuracy: 0.9870\n",
      "Epoch 12/20\n",
      "31/31 [==============================] - 1s 44ms/step - loss: 0.0039 - accuracy: 1.0000 - val_loss: 0.0353 - val_accuracy: 0.9870\n",
      "Epoch 13/20\n",
      "31/31 [==============================] - 3s 91ms/step - loss: 0.0036 - accuracy: 1.0000 - val_loss: 0.0334 - val_accuracy: 0.9870\n",
      "Epoch 14/20\n",
      "31/31 [==============================] - 2s 64ms/step - loss: 0.0034 - accuracy: 1.0000 - val_loss: 0.0331 - val_accuracy: 0.9870\n",
      "Epoch 15/20\n",
      "31/31 [==============================] - 2s 72ms/step - loss: 0.0032 - accuracy: 1.0000 - val_loss: 0.0333 - val_accuracy: 0.9870\n",
      "Epoch 16/20\n",
      "31/31 [==============================] - 3s 86ms/step - loss: 0.0030 - accuracy: 1.0000 - val_loss: 0.0321 - val_accuracy: 0.9870\n",
      "Epoch 17/20\n",
      "31/31 [==============================] - 3s 109ms/step - loss: 0.0028 - accuracy: 1.0000 - val_loss: 0.0332 - val_accuracy: 0.9870\n",
      "Epoch 18/20\n",
      "31/31 [==============================] - 2s 80ms/step - loss: 0.0027 - accuracy: 1.0000 - val_loss: 0.0330 - val_accuracy: 0.9870\n",
      "Epoch 19/20\n",
      "31/31 [==============================] - 2s 62ms/step - loss: 0.0025 - accuracy: 1.0000 - val_loss: 0.0314 - val_accuracy: 0.9870\n",
      "Epoch 20/20\n",
      "31/31 [==============================] - 1s 29ms/step - loss: 0.0024 - accuracy: 1.0000 - val_loss: 0.0308 - val_accuracy: 0.9870\n"
     ]
    }
   ],
   "source": [
    "# your code here\n",
    "history = model.fit(x_train, y_train, epochs=26, batch_size=16, validation_split=0.2)\n"
   ]
  },
  {
   "cell_type": "markdown",
   "metadata": {},
   "source": [
    "## Step 4: Improve Your Model\n",
    "\n",
    "Did your model achieve low loss (<0.1) and high accuracy (>0.95)? If not, try to improve your model.\n",
    "\n",
    "But how? There are so many things you can play with in Tensorflow and in the next challenge you'll learn about these things. But in this challenge, let's just do a few things to see if they will help.\n",
    "\n",
    "* Add more layers to your model. If the data are complex you need more layers. But don't use more layers than you need. If adding more layers does not improve the model performance you don't need additional layers.\n",
    "* Adjust the learning rate when you compile the model. This means you will create a custom `tf.keras.optimizers.Adam` instance where you specify the learning rate you want. Then pass the instance to `model.compile` as the optimizer.\n",
    "    * `tf.keras.optimizers.Adam` [reference](https://www.tensorflow.org/api_docs/python/tf/keras/optimizers/Adam).\n",
    "    * Don't worry if you don't understand what the learning rate does. You'll learn about it in the next challenge.\n",
    "* Adjust the number of epochs when you fit the training data to the model. Your model performance continues to improve as you train more epochs. But eventually it will reach the ceiling and the performance will stay the same."
   ]
  },
  {
   "cell_type": "code",
   "execution_count": 116,
   "metadata": {},
   "outputs": [
    {
     "name": "stdout",
     "output_type": "stream",
     "text": [
      "6/6 [==============================] - 0s 54ms/step - loss: 0.0615 - accuracy: 0.9792\n",
      "Test Accuracy: 0.9792\n"
     ]
    }
   ],
   "source": [
    "# your code here\n",
    "test_loss, test_accuracy = model.evaluate(x_test, y_test)\n",
    "print(f'Test Accuracy: {test_accuracy:.4f}')"
   ]
  },
  {
   "cell_type": "markdown",
   "metadata": {},
   "source": [
    "**Which approach(es) did you find helpful to improve your model performance?**"
   ]
  },
  {
   "cell_type": "code",
   "execution_count": 117,
   "metadata": {},
   "outputs": [],
   "source": [
    "# your answer here\n",
    "#THe use of ReLU as the activation function for the middle layers. Use Softmax for the output layer because each output has a single lable and all the label probabilities add up to 1."
   ]
  }
 ],
 "metadata": {
  "kernelspec": {
   "display_name": "Python 3",
   "language": "python",
   "name": "python3"
  },
  "language_info": {
   "codemirror_mode": {
    "name": "ipython",
    "version": 3
   },
   "file_extension": ".py",
   "mimetype": "text/x-python",
   "name": "python",
   "nbconvert_exporter": "python",
   "pygments_lexer": "ipython3",
   "version": "3.10.13"
  }
 },
 "nbformat": 4,
 "nbformat_minor": 2
}
