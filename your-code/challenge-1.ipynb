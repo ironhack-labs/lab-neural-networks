{
 "cells": [
  {
   "cell_type": "markdown",
   "metadata": {},
   "source": [
    "# Challenge 1 - Tic Tac Toe\n",
    "\n",
    "In this lab you will perform deep learning analysis on a dataset of playing [Tic Tac Toe](https://en.wikipedia.org/wiki/Tic-tac-toe).\n",
    "\n",
    "There are 9 grids in Tic Tac Toe that are coded as the following picture shows:\n",
    "\n",
    "![Tic Tac Toe Grids](tttboard.jpg)\n",
    "\n",
    "In the first 9 columns of the dataset you can find which marks (`x` or `o`) exist in the grids. If there is no mark in a certain grid, it is labeled as `b`. The last column is `class` which tells you whether Player X (who always moves first in Tic Tac Toe) wins in this configuration. Note that when `class` has the value `False`, it means either Player O wins the game or it ends up as a draw."
   ]
  },
  {
   "cell_type": "markdown",
   "metadata": {},
   "source": [
    "Follow the steps suggested below to conduct a neural network analysis using Tensorflow and Keras. You will build a deep learning model to predict whether Player X wins the game or not.\n",
    "\n",
    "## Step 1: Data Engineering\n",
    "\n",
    "This dataset is almost in the ready-to-use state so you do not need to worry about missing values and so on. Still, some simple data engineering is needed.\n",
    "\n",
    "1. Read `tic-tac-toe.csv` into a dataframe.\n",
    "1. Inspect the dataset. Determine if the dataset is reliable by eyeballing the data.\n",
    "1. Convert the categorical values to numeric in all columns.\n",
    "1. Separate the inputs and output.\n",
    "1. Normalize the input data."
   ]
  },
  {
   "cell_type": "code",
   "execution_count": null,
   "metadata": {},
   "outputs": [],
   "source": [
    "#Keras\n",
    "from keras import layers\n",
    "from keras.models import load_model\n",
    "\n",
    "#Pandas\n",
    "import pandas as pd\n",
    "\n",
    "#TensorFlow\n",
    "from tensorflow.keras.models import Sequential\n",
    "\n",
    "#Seaborn\n",
    "import seaborn as sns\n",
    "\n",
    "#Sci-kit learn\n",
    "from sklearn.preprocessing import OneHotEncoder, StandardScaler\n",
    "from sklearn.model_selection import train_test_split\n",
    "\n",
    "#Matplotlib\n",
    "import matplotlib.pyplot as plt\n",
    "\n",
    "#Numpy\n",
    "import numpy as np\n",
    "\n",
    "#Scipy\n",
    "from scipy.stats import chisquare"
   ]
  },
  {
   "cell_type": "code",
   "execution_count": null,
   "metadata": {},
   "outputs": [],
   "source": [
    "# your code here\n",
    "tic_tac_toe_data = pd.read_csv(\"tic-tac-toe.csv\")"
   ]
  },
  {
   "cell_type": "code",
   "execution_count": null,
   "metadata": {},
   "outputs": [],
   "source": [
    "tic_tac_toe_data.head()"
   ]
  },
  {
   "cell_type": "code",
   "execution_count": null,
   "metadata": {},
   "outputs": [],
   "source": [
    "tic_tac_toe_data.dtypes"
   ]
  },
  {
   "cell_type": "code",
   "execution_count": null,
   "metadata": {},
   "outputs": [],
   "source": [
    "#Check for the unique values in the dataset\n",
    "for col in tic_tac_toe_data.columns:\n",
    "    unique_vals = tic_tac_toe_data[col].unique()\n",
    "    print(f\"{col}: {unique_vals}\") "
   ]
  },
  {
   "cell_type": "code",
   "execution_count": null,
   "metadata": {},
   "outputs": [],
   "source": [
    "#Check frequencies of the data for each column to check for potential bias\n",
    "for col in tic_tac_toe_data.columns:\n",
    "    frequency_vals = tic_tac_toe_data[col].value_counts()\n",
    "    print(f\"{col}: {frequency_vals}\\n\")"
   ]
  },
  {
   "cell_type": "code",
   "execution_count": null,
   "metadata": {},
   "outputs": [],
   "source": [
    "#Plot frequencies\n",
    "for col in tic_tac_toe_data.columns:\n",
    "    plt.figure(figsize=(8, 5))\n",
    "    sns.countplot(x=tic_tac_toe_data[col], color='lightblue', edgecolor='black')\n",
    "    plt.title(f\"Distribution of {col}\")\n",
    "    plt.xlabel(col)\n",
    "    plt.ylabel(\"Frequency\")\n",
    "    plt.show()"
   ]
  },
  {
   "cell_type": "code",
   "execution_count": null,
   "metadata": {},
   "outputs": [],
   "source": [
    "#Chi square to check for distribution\n",
    "frequency_vals = tic_tac_toe_data['class'].value_counts()\n",
    "observed = frequency_vals.values \n",
    "expected = [len(tic_tac_toe_data) / 2] * 2 \n",
    "\n",
    "chi_square_stat, p_value = chisquare(observed, f_exp=expected)\n",
    "\n",
    "print(f\"Chi-Square Statistic: {chi_square_stat}, P-Value: {p_value}\")"
   ]
  },
  {
   "cell_type": "raw",
   "metadata": {},
   "source": [
    "-The chi-squared statistic calculated above indicates that the data is heavily different from the observed and expected frequencies. \n",
    "-The p-value calculated above indicates that we can reject the null hypothesis which states that there is no difference in the distribution of the outcomes (True vs. False)\n",
    "-The data provides strong evidence to suggest that the outcomes are not equally distributed. There is a clear bias in the game outcomes, where X (associated with True) wins significantly more often than O or ties (False)."
   ]
  },
  {
   "cell_type": "code",
   "execution_count": null,
   "metadata": {},
   "outputs": [],
   "source": [
    "#OneHot encode all categoricals to numerics\n",
    "#Initialize the OneHotEncoder\n",
    "encoder = OneHotEncoder(sparse_output=False)\n",
    "\n",
    "#Select categorical columns to encode\n",
    "categorical_columns = ['TL', 'TM', 'TR', 'ML', 'MM', 'MR', 'BL', 'BM', 'BR']\n",
    "\n",
    "#Fit and transform the encoder on these columns\n",
    "encoded_features = encoder.fit_transform(tic_tac_toe_data[categorical_columns])\n",
    "\n",
    "#Convert encoded features to a DataFrame with appropriate column names\n",
    "encoded_df = pd.DataFrame(\n",
    "    encoded_features, \n",
    "    columns=encoder.get_feature_names_out(categorical_columns)\n",
    ")\n",
    "\n",
    "#Drop original categorical columns and add encoded ones\n",
    "tic_tac_toe_encoded = pd.concat(\n",
    "    [tic_tac_toe_data.drop(columns=categorical_columns), encoded_df],\n",
    "    axis=1\n",
    ")\n",
    "\n",
    "#Convert 'class' column from boolean to integer (1 for True, 0 for False)\n",
    "tic_tac_toe_encoded['class'] = tic_tac_toe_encoded['class'].astype(int)\n",
    "\n",
    "#Display the first few rows of the updated dataset\n",
    "print(tic_tac_toe_encoded.head())"
   ]
  },
  {
   "cell_type": "code",
   "execution_count": null,
   "metadata": {},
   "outputs": [],
   "source": [
    "#Seperate inputs and outputs\n",
    "X = tic_tac_toe_encoded.drop(columns=['class'])\n",
    "y = tic_tac_toe_encoded['class']"
   ]
  },
  {
   "cell_type": "code",
   "execution_count": null,
   "metadata": {},
   "outputs": [],
   "source": [
    "#Normalize input data\n",
    "scaler = StandardScaler()\n",
    "X_scaled_data = scaler.fit_transform(X)"
   ]
  },
  {
   "cell_type": "markdown",
   "metadata": {},
   "source": [
    "## Step 2: Build Neural Network\n",
    "\n",
    "To build the neural network, you can refer to your own codes you wrote while following the [Deep Learning with Python, TensorFlow, and Keras tutorial](https://www.youtube.com/watch?v=wQ8BIBpya2k) in the lesson. It's pretty similar to what you will be doing in this lab.\n",
    "\n",
    "1. Split the training and test data.\n",
    "1. Create a `Sequential` model.\n",
    "1. Add several layers to your model. Make sure you use ReLU as the activation function for the middle layers. Use Softmax for the output layer because each output has a single lable and all the label probabilities add up to 1.\n",
    "1. Compile the model using `adam` as the optimizer and `sparse_categorical_crossentropy` as the loss function. For metrics, use `accuracy` for now.\n",
    "1. Fit the training data.\n",
    "1. Evaluate your neural network model with the test data.\n",
    "1. Save your model as `tic-tac-toe.model`."
   ]
  },
  {
   "cell_type": "code",
   "execution_count": null,
   "metadata": {},
   "outputs": [],
   "source": [
    "# your code here\n",
    "#Train, test, split data\n",
    "X_train, X_test, y_train, y_test = train_test_split(X_scaled_data, y, test_size=0.3)\n",
    "\n",
    "#Initiate model\n",
    "tic_tac_toe_model = Sequential()\n",
    "tic_tac_toe_model.add(layers.Dense(128, activation='relu'))\n",
    "tic_tac_toe_model.add(layers.Dense(128, activation='relu' ))\n",
    "tic_tac_toe_model.add(layers.Dense(128, activation='relu'))\n",
    "tic_tac_toe_model.add(layers.Dense(128, activation='relu'))\n",
    "tic_tac_toe_model.add(layers.Dense(2, activation='softmax'))\n",
    "\n",
    "#Compile model\n",
    "tic_tac_toe_model.compile(optimizer='adam',\n",
    "             loss='sparse_categorical_crossentropy',\n",
    "             metrics=['accuracy'])\n",
    "\n",
    "#Fit model\n",
    "tic_tac_toe_model.fit(X_train, y_train, epochs=7)"
   ]
  },
  {
   "cell_type": "code",
   "execution_count": null,
   "metadata": {},
   "outputs": [],
   "source": [
    "#Test \n",
    "val_loss, val_accuracy = tic_tac_toe_model.evaluate(X_test, y_test)\n",
    "print(f\"Loss: {val_loss} \\nAccuracy: {val_accuracy}\" )"
   ]
  },
  {
   "cell_type": "code",
   "execution_count": null,
   "metadata": {},
   "outputs": [],
   "source": [
    "#Save model\n",
    "tic_tac_toe_model.save('tic-tac-toe.keras')"
   ]
  },
  {
   "cell_type": "markdown",
   "metadata": {},
   "source": [
    "## Step 3: Make Predictions\n",
    "\n",
    "Now load your saved model and use it to make predictions on a few random rows in the test dataset. Check if the predictions are correct."
   ]
  },
  {
   "cell_type": "code",
   "execution_count": null,
   "metadata": {},
   "outputs": [],
   "source": [
    "# your code here\n",
    "#Load new model\n",
    "new_model = load_model(\"tic-tac-toe.keras\")"
   ]
  },
  {
   "cell_type": "code",
   "execution_count": null,
   "metadata": {},
   "outputs": [],
   "source": [
    "#Select random indices\n",
    "random_indices = np.random.choice(X_test.shape[0], size=5, replace=False)\n",
    "\n",
    "#Select corresponding rows\n",
    "random_rows = X_test[random_indices]\n",
    "true_labels = y_test.iloc[random_indices]\n",
    "\n",
    "#Predict using the loaded model\n",
    "predictions = new_model.predict(random_rows)\n",
    "\n",
    "#Interpret predictions\n",
    "predicted_classes = np.argmax(predictions, axis=1)\n",
    "\n",
    "#Print results\n",
    "print(\"Random Rows (Features):\\n\", random_rows)\n",
    "print(\"\\nTrue Labels:\\n\", true_labels.values)\n",
    "print(\"\\nPredicted Classes:\\n\", predicted_classes)"
   ]
  },
  {
   "cell_type": "markdown",
   "metadata": {},
   "source": [
    "## Step 4: Improve Your Model\n",
    "\n",
    "Did your model achieve low loss (<0.1) and high accuracy (>0.95)? If not, try to improve your model.\n",
    "\n",
    "But how? There are so many things you can play with in Tensorflow and in the next challenge you'll learn about these things. But in this challenge, let's just do a few things to see if they will help.\n",
    "\n",
    "* Add more layers to your model. If the data are complex you need more layers. But don't use more layers than you need. If adding more layers does not improve the model performance you don't need additional layers.\n",
    "* Adjust the learning rate when you compile the model. This means you will create a custom `tf.keras.optimizers.Adam` instance where you specify the learning rate you want. Then pass the instance to `model.compile` as the optimizer.\n",
    "    * `tf.keras.optimizers.Adam` [reference](https://www.tensorflow.org/api_docs/python/tf/keras/optimizers/Adam).\n",
    "    * Don't worry if you don't understand what the learning rate does. You'll learn about it in the next challenge.\n",
    "* Adjust the number of epochs when you fit the training data to the model. Your model performance continues to improve as you train more epochs. But eventually it will reach the ceiling and the performance will stay the same."
   ]
  },
  {
   "cell_type": "code",
   "execution_count": null,
   "metadata": {},
   "outputs": [],
   "source": [
    "# your code here"
   ]
  },
  {
   "cell_type": "markdown",
   "metadata": {},
   "source": [
    "**Which approach(es) did you find helpful to improve your model performance?**"
   ]
  },
  {
   "cell_type": "code",
   "execution_count": null,
   "metadata": {},
   "outputs": [],
   "source": [
    "# your answer here"
   ]
  }
 ],
 "metadata": {
  "kernelspec": {
   "display_name": "Python 3 (ipykernel)",
   "language": "python",
   "name": "python3"
  },
  "language_info": {
   "codemirror_mode": {
    "name": "ipython",
    "version": 3
   },
   "file_extension": ".py",
   "mimetype": "text/x-python",
   "name": "python",
   "nbconvert_exporter": "python",
   "pygments_lexer": "ipython3",
   "version": "3.12.7"
  }
 },
 "nbformat": 4,
 "nbformat_minor": 4
}
