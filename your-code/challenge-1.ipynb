{
 "cells": [
  {
   "cell_type": "markdown",
   "metadata": {},
   "source": [
    "# Challenge 1 - Tic Tac Toe\n",
    "\n",
    "In this lab you will perform deep learning analysis on a dataset of playing [Tic Tac Toe](https://en.wikipedia.org/wiki/Tic-tac-toe).\n",
    "\n",
    "There are 9 grids in Tic Tac Toe that are coded as the following picture shows:\n",
    "\n",
    "![Tic Tac Toe Grids](tttboard.jpg)\n",
    "\n",
    "In the first 9 columns of the dataset you can find which marks (`x` or `o`) exist in the grids. If there is no mark in a certain grid, it is labeled as `b`. The last column is `class` which tells you whether Player X (who always moves first in Tic Tac Toe) wins in this configuration. Note that when `class` has the value `False`, it means either Player O wins the game or it ends up as a draw."
   ]
  },
  {
   "cell_type": "markdown",
   "metadata": {},
   "source": [
    "Follow the steps suggested below to conduct a neural network analysis using Tensorflow and Keras. You will build a deep learning model to predict whether Player X wins the game or not.\n",
    "\n",
    "## Step 1: Data Engineering\n",
    "\n",
    "This dataset is almost in the ready-to-use state so you do not need to worry about missing values and so on. Still, some simple data engineering is needed.\n",
    "\n",
    "1. Read `tic-tac-toe.csv` into a dataframe.\n",
    "1. Inspect the dataset. Determine if the dataset is reliable by eyeballing the data.\n",
    "1. Convert the categorical values to numeric in all columns.\n",
    "1. Separate the inputs and output.\n",
    "1. Normalize the input data."
   ]
  },
  {
   "cell_type": "code",
   "execution_count": null,
   "metadata": {},
   "outputs": [],
   "source": [
    "import pandas as pd \n",
    "from sklearn.preprocessing import LabelEncoder, StandardScaler\n",
    "\n",
    "ticTacToe = pd.read_csv('./tic-tac-toe.csv')\n",
    "print(ticTacToe.head())\n",
    "label_encoders = {} \n",
    "for column in ticTacToe.columns[:-1]: \n",
    "    le = LabelEncoder() \n",
    "    ticTacToe[column] = le.fit_transform(ticTacToe[column]) \n",
    "    label_encoders[column] = le\n",
    "print(ticTacToe.head())\n",
    "\n",
    "X = ticTacToe.drop(columns=['class']) # Assuming 'Result' is the target variable \n",
    "ticTacToe['class'] = ticTacToe['class'].astype(int)\n",
    "y = ticTacToe['class']\n",
    "\n",
    "\n",
    "#scaler = StandardScaler() \n",
    "#X_normalized = scaler.fit_transform(X)"
   ]
  },
  {
   "cell_type": "markdown",
   "metadata": {},
   "source": [
    "## Step 2: Build Neural Network\n",
    "\n",
    "To build the neural network, you can refer to your own codes you wrote while following the [Deep Learning with Python, TensorFlow, and Keras tutorial](https://www.youtube.com/watch?v=wQ8BIBpya2k) in the lesson. It's pretty similar to what you will be doing in this lab.\n",
    "\n",
    "1. Split the training and test data.\n",
    "1. Create a `Sequential` model.\n",
    "1. Add several layers to your model. Make sure you use ReLU as the activation function for the middle layers. Use Softmax for the output layer because each output has a single lable and all the label probabilities add up to 1.\n",
    "1. Compile the model using `adam` as the optimizer and `sparse_categorical_crossentropy` as the loss function. For metrics, use `accuracy` for now.\n",
    "1. Fit the training data.\n",
    "1. Evaluate your neural network model with the test data.\n",
    "1. Save your model as `tic-tac-toe.model`."
   ]
  },
  {
   "cell_type": "code",
   "execution_count": null,
   "metadata": {},
   "outputs": [],
   "source": [
    "\n",
    "from sklearn.model_selection import train_test_split\n",
    "import tensorflow as tf\n",
    "from tensorflow.keras.models import Sequential\n",
    "from tensorflow.keras.layers import Dense, Dropout\n",
    "import tensorflow\n",
    "\n",
    "\n",
    "batch_size = 32\n",
    "epochs = 50\n",
    "# Step 1: Split the Training and Test Data\n",
    "# Assuming X_normalized and y are defined from the previous steps\n",
    "X_train, X_test, y_train, y_test = train_test_split(X, y, test_size=0.2, random_state=42)\n",
    "\n",
    "# Step 2: Create a Sequential Model\n",
    "model = Sequential()\n",
    "\n",
    "# Step 3: Add Layers to the Model\n",
    "model.add(Dense(64, activation='relu', input_shape=(X_train.shape[1],)))\n",
    "model.add(Dropout(0.2))\n",
    "model.add(Dense(32, activation='relu'))\n",
    "model.add(Dropout(0.2))\n",
    "model.add(Dense(16, activation='relu'))\n",
    "model.add(Dropout(0.2))\n",
    "model.add(Dense(8, activation='relu'))\n",
    "model.add(Dropout(0.2))\n",
    "model.add(Dense(2, activation='softmax'))\n",
    "\n",
    "# Step 4: Compile the Model\n",
    "model.compile(optimizer='adam', loss='sparse_categorical_crossentropy', metrics=['accuracy'])\n",
    "\n",
    "model.summary()\n",
    "\n",
    "\n",
    "\n"
   ]
  },
  {
   "cell_type": "code",
   "execution_count": null,
   "metadata": {},
   "outputs": [],
   "source": [
    "# Step 5: Fit model data\n",
    "history = model.fit(X_train, y_train,\n",
    "                    batch_size=batch_size,\n",
    "                    epochs=epochs,\n",
    "                    verbose=1,\n",
    "                    validation_data=(X_test, y_test))"
   ]
  },
  {
   "cell_type": "code",
   "execution_count": null,
   "metadata": {},
   "outputs": [],
   "source": [
    "\n",
    "# Evaluate Model\n",
    "\n",
    "test_loss, test_acc = model.evaluate(X_test, y_test) \n",
    "train_loss, train_acc = model.evaluate(X_train, y_train)\n",
    "print(f\"Train Loss: {train_loss}\") \n",
    "print(f\"Train Accuracy: {train_acc}\")\n",
    "print(f\"Test Loss: {test_loss}\") \n",
    "print(f\"Test Accuracy: {test_acc}\")\n",
    "\n",
    "\n",
    "# Step 7: Save the Model\n",
    "model.save('tic-tac-toe.model.h5')\n",
    "print(\"Model saved as tic-tac-toe.model\")"
   ]
  },
  {
   "cell_type": "markdown",
   "metadata": {},
   "source": [
    "## Step 3: Make Predictions\n",
    "\n",
    "Now load your saved model and use it to make predictions on a few random rows in the test dataset. Check if the predictions are correct."
   ]
  },
  {
   "cell_type": "code",
   "execution_count": null,
   "metadata": {},
   "outputs": [],
   "source": [
    "import numpy as np\n",
    "\n",
    "print(len(X_test))\n",
    "\n",
    "random_indices = np.random.choice(len(X_test), size=5, replace=False) # Select 5 random indices \n",
    "print(random_indices)\n",
    "random_samples = X_test.iloc[random_indices] \n",
    "random_labels = y_test.iloc[random_indices]\n",
    "# Make predictions\n",
    "predictions = model.predict(random_samples)\n",
    "predicted_labels = (predictions > 0.5).astype(int).flatten()\n",
    "\n",
    "# Display the results\n",
    "for i, index in enumerate(random_indices):\n",
    "    print(f\"Sample {index}:\")\n",
    "    print(f\"Predicted: {predicted_labels[i]}, Actual: {random_labels.iloc[i]}\")\n",
    "    print()\n"
   ]
  },
  {
   "cell_type": "markdown",
   "metadata": {},
   "source": [
    "## Step 4: Improve Your Model\n",
    "\n",
    "Did your model achieve low loss (<0.1) and high accuracy (>0.95)? If not, try to improve your model.\n",
    "\n",
    "But how? There are so many things you can play with in Tensorflow and in the next challenge you'll learn about these things. But in this challenge, let's just do a few things to see if they will help.\n",
    "\n",
    "* Add more layers to your model. If the data are complex you need more layers. But don't use more layers than you need. If adding more layers does not improve the model performance you don't need additional layers.\n",
    "* Adjust the learning rate when you compile the model. This means you will create a custom `tf.keras.optimizers.Adam` instance where you specify the learning rate you want. Then pass the instance to `model.compile` as the optimizer.\n",
    "    * `tf.keras.optimizers.Adam` [reference](https://www.tensorflow.org/api_docs/python/tf/keras/optimizers/Adam).\n",
    "    * Don't worry if you don't understand what the learning rate does. You'll learn about it in the next challenge.\n",
    "* Adjust the number of epochs when you fit the training data to the model. Your model performance continues to improve as you train more epochs. But eventually it will reach the ceiling and the performance will stay the same."
   ]
  },
  {
   "cell_type": "code",
   "execution_count": null,
   "metadata": {},
   "outputs": [],
   "source": [
    "\n",
    "model2 = Sequential()\n",
    "\n",
    "# Step 4: Add More Layers to the Model\n",
    "model2.add(Dense(128, activation='relu', input_shape=(X_train.shape[1],)))\n",
    "model2.add(Dropout(0.3))\n",
    "model2.add(Dense(64, activation='relu'))\n",
    "model2.add(Dropout(0.3))\n",
    "model2.add(Dense(32, activation='relu'))\n",
    "model2.add(Dropout(0.3))\n",
    "model2.add(Dense(16, activation='relu'))\n",
    "model2.add(Dense(2, activation='softmax'))  # Use sigmoid for binary classification\n",
    "\n",
    "# Step 5: Adjust the Learning Rate\n",
    "optimizer = tf.keras.optimizers.Adam(learning_rate=0.003)  # Adjust the learning rate if needed\n",
    "\n",
    "# Step 6: Compile the Model\n",
    "model2.compile(optimizer=optimizer, loss='sparse_categorical_crossentropy', metrics=['accuracy'])\n",
    "\n",
    "model2.summary()\n",
    "\n",
    "# Step 7: Fit the Training Data with More Epochs\n",
    "history = model2.fit(X_train, y_train,\n",
    "                     batch_size=batch_size,\n",
    "                     epochs=200,  # Increased the number of epochs\n",
    "                     verbose=1,\n",
    "                     validation_data=(X_test, y_test))\n",
    "\n",
    "# Step 8: Evaluate the Model\n",
    "test_loss, test_acc = model2.evaluate(X_test, y_test)\n",
    "print(f\"Test Loss: {test_loss}\")\n",
    "print(f\"Test Accuracy: {test_acc}\")\n",
    "\n",
    "# Save the Model with .h5 extension\n",
    "model2.save('tic-tac-toe_model2_improved.keras')\n",
    "print(\"Model saved as tic-tac-toe_model2_improved.keras\")\n"
   ]
  },
  {
   "cell_type": "markdown",
   "metadata": {},
   "source": [
    "**Which approach(es) did you find helpful to improve your model performance?**"
   ]
  },
  {
   "cell_type": "code",
   "execution_count": null,
   "metadata": {},
   "outputs": [],
   "source": [
    "# 1st it addeda layer then in played with the learinig rate then I added more epoch"
   ]
  }
 ],
 "metadata": {
  "kernelspec": {
   "display_name": "Python 3",
   "language": "python",
   "name": "python3"
  },
  "language_info": {
   "codemirror_mode": {
    "name": "ipython",
    "version": 3
   },
   "file_extension": ".py",
   "mimetype": "text/x-python",
   "name": "python",
   "nbconvert_exporter": "python",
   "pygments_lexer": "ipython3",
   "version": "3.11.9"
  }
 },
 "nbformat": 4,
 "nbformat_minor": 2
}
