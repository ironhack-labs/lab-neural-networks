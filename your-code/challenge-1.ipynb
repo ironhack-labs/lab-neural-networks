{
 "cells": [
  {
   "cell_type": "markdown",
   "metadata": {},
   "source": [
    "# Challenge 1 - Tic Tac Toe\n",
    "\n",
    "In this lab you will perform deep learning analysis on a dataset of playing [Tic Tac Toe](https://en.wikipedia.org/wiki/Tic-tac-toe).\n",
    "\n",
    "There are 9 grids in Tic Tac Toe that are coded as the following picture shows:\n",
    "\n",
    "![Tic Tac Toe Grids](tttboard.jpg)\n",
    "\n",
    "In the first 9 columns of the dataset you can find which marks (`x` or `o`) exist in the grids. If there is no mark in a certain grid, it is labeled as `b`. The last column is `class` which tells you whether Player X (who always moves first in Tic Tac Toe) wins in this configuration. Note that when `class` has the value `False`, it means either Player O wins the game or it ends up as a draw."
   ]
  },
  {
   "cell_type": "markdown",
   "metadata": {},
   "source": [
    "Follow the steps suggested below to conduct a neural network analysis using Tensorflow and Keras. You will build a deep learning model to predict whether Player X wins the game or not.\n",
    "\n",
    "## Step 1: Data Engineering\n",
    "\n",
    "This dataset is almost in the ready-to-use state so you do not need to worry about missing values and so on. Still, some simple data engineering is needed.\n",
    "\n",
    "1. Read `tic-tac-toe.csv` into a dataframe.\n",
    "1. Inspect the dataset. Determine if the dataset is reliable by eyeballing the data.\n",
    "1. Convert the categorical values to numeric in all columns.\n",
    "1. Separate the inputs and output.\n",
    "1. Normalize the input data."
   ]
  },
  {
   "cell_type": "code",
   "execution_count": 79,
   "metadata": {},
   "outputs": [
    {
     "name": "stdout",
     "output_type": "stream",
     "text": [
      "  TL TM TR ML MM MR BL BM BR  class\n",
      "0  x  x  x  x  o  o  x  o  o   True\n",
      "1  x  x  x  x  o  o  o  x  o   True\n",
      "2  x  x  x  x  o  o  o  o  x   True\n",
      "3  x  x  x  x  o  o  o  b  b   True\n",
      "4  x  x  x  x  o  o  b  o  b   True\n",
      "(958, 10)\n",
      "TL       0\n",
      "TM       0\n",
      "TR       0\n",
      "ML       0\n",
      "MM       0\n",
      "MR       0\n",
      "BL       0\n",
      "BM       0\n",
      "BR       0\n",
      "class    0\n",
      "dtype: int64\n"
     ]
    }
   ],
   "source": [
    "# your code here\n",
    "\n",
    "import pandas as pd\n",
    "import numpy as np\n",
    "\n",
    "tic = pd.read_csv(\"tic-tac-toe.csv\")\n",
    "\n",
    "print(tic.head())\n",
    "print(tic.shape)\n",
    "print(tic.isnull().sum())\n"
   ]
  },
  {
   "cell_type": "code",
   "execution_count": 80,
   "metadata": {},
   "outputs": [
    {
     "name": "stdout",
     "output_type": "stream",
     "text": [
      "  TL TM TR ML MM MR BL BM BR\n",
      "0  x  x  x  x  o  o  x  o  o\n",
      "1  x  x  x  x  o  o  o  x  o\n",
      "2  x  x  x  x  o  o  o  o  x\n",
      "3  x  x  x  x  o  o  o  b  b\n",
      "4  x  x  x  x  o  o  b  o  b\n",
      "0    1\n",
      "1    1\n",
      "2    1\n",
      "3    1\n",
      "4    1\n",
      "Name: class, dtype: int32\n",
      "   TL  TM  TR  ML  MM  MR  BL  BM  BR\n",
      "0   1   1   1   1   0   0   1   0   0\n",
      "1   1   1   1   1   0   0   0   1   0\n",
      "2   1   1   1   1   0   0   0   0   1\n",
      "3   1   1   1   1   0   0   0   2   2\n",
      "4   1   1   1   1   0   0   2   0   2\n"
     ]
    },
    {
     "name": "stderr",
     "output_type": "stream",
     "text": [
      "C:\\Users\\KK\\AppData\\Local\\Temp\\ipykernel_11288\\2294999656.py:6: FutureWarning: Downcasting behavior in `replace` is deprecated and will be removed in a future version. To retain the old behavior, explicitly call `result.infer_objects(copy=False)`. To opt-in to the future behavior, set `pd.set_option('future.no_silent_downcasting', True)`\n",
      "  tic_pred_encoded = tic_predictors.replace({'x': 1, 'o': 0, 'b': 2})\n"
     ]
    }
   ],
   "source": [
    "#Split into Predictors and target\n",
    "\n",
    "# Need to Encode both the Predictor and target using One-Hot Encoding. \n",
    "\n",
    "tic_predictors = tic.drop(columns = [\"class\"])\n",
    "tic_pred_encoded = tic_predictors.replace({'x': 1, 'o': 0, 'b': 2})\n",
    "\n",
    "tic_tgt_encoded = tic['class'].astype(int)\n",
    "\n",
    "print(tic_predictors.head())\n",
    "print(tic_tgt_encoded.head())\n",
    "print(tic_pred_encoded.head())\n"
   ]
  },
  {
   "cell_type": "code",
   "execution_count": 81,
   "metadata": {},
   "outputs": [
    {
     "name": "stdout",
     "output_type": "stream",
     "text": [
      "9\n"
     ]
    }
   ],
   "source": [
    "n_cols = tic_predictors.shape[1]\n",
    "print(n_cols)"
   ]
  },
  {
   "cell_type": "markdown",
   "metadata": {},
   "source": [
    "## Step 2: Build Neural Network\n",
    "\n",
    "To build the neural network, you can refer to your own codes you wrote while following the [Deep Learning with Python, TensorFlow, and Keras tutorial](https://www.youtube.com/watch?v=wQ8BIBpya2k) in the lesson. It's pretty similar to what you will be doing in this lab.\n",
    "\n",
    "1. Split the training and test data.\n",
    "1. Create a `Sequential` model.\n",
    "1. Add several layers to your model. Make sure you use ReLU as the activation function for the middle layers. Use Softmax for the output layer because each output has a single lable and all the label probabilities add up to 1.\n",
    "1. Compile the model using `adam` as the optimizer and `sparse_categorical_crossentropy` as the loss function. For metrics, use `accuracy` for now.\n",
    "1. Fit the training data.\n",
    "1. Evaluate your neural network model with the test data.\n",
    "1. Save your model as `tic-tac-toe.model`."
   ]
  },
  {
   "cell_type": "code",
   "execution_count": 82,
   "metadata": {},
   "outputs": [],
   "source": [
    "# your code here\n",
    "\n",
    "#!pip install tensorflow\n",
    "from tensorflow import keras\n",
    "\n",
    "from keras.models import Sequential\n",
    "from keras.layers import Dense\n"
   ]
  },
  {
   "cell_type": "code",
   "execution_count": 83,
   "metadata": {},
   "outputs": [],
   "source": [
    "from sklearn.model_selection import train_test_split\n",
    "\n",
    "# Split the Train and Test Data\n",
    "X_train, X_test, y_train, y_test = train_test_split(tic_pred_encoded,tic_tgt_encoded,test_size=0.2, random_state = 42)"
   ]
  },
  {
   "cell_type": "code",
   "execution_count": 84,
   "metadata": {},
   "outputs": [],
   "source": [
    "# Define a Sequential Model\n",
    "def sequential_model():\n",
    "    #create model\n",
    "    model = Sequential()\n",
    "    model.add(Dense(64, activation= 'relu', input_shape=(n_cols,)))\n",
    "    model.add(Dense(32, activation= 'relu'))\n",
    "    model.add(Dense(16, activation= 'relu'))\n",
    "    model.add(Dense(2, activation='softmax')) # Output Layer \n",
    "\n",
    "    #compile model\n",
    "    model.compile(optimizer='adam', loss='sparse_categorical_crossentropy', metrics = ['accuracy'])\n",
    "    return model"
   ]
  },
  {
   "cell_type": "code",
   "execution_count": 85,
   "metadata": {},
   "outputs": [
    {
     "name": "stderr",
     "output_type": "stream",
     "text": [
      "c:\\Users\\KK\\anaconda3\\Lib\\site-packages\\keras\\src\\layers\\core\\dense.py:87: UserWarning: Do not pass an `input_shape`/`input_dim` argument to a layer. When using Sequential models, prefer using an `Input(shape)` object as the first layer in the model instead.\n",
      "  super().__init__(activity_regularizer=activity_regularizer, **kwargs)\n"
     ]
    }
   ],
   "source": [
    "# Build the Model\n",
    "model = sequential_model()"
   ]
  },
  {
   "cell_type": "code",
   "execution_count": 86,
   "metadata": {},
   "outputs": [
    {
     "name": "stdout",
     "output_type": "stream",
     "text": [
      "Epoch 1/50\n",
      "24/24 - 5s - 202ms/step - accuracy: 0.6540 - loss: 0.6256\n",
      "Epoch 2/50\n",
      "24/24 - 0s - 7ms/step - accuracy: 0.6527 - loss: 0.5956\n",
      "Epoch 3/50\n",
      "24/24 - 0s - 7ms/step - accuracy: 0.6697 - loss: 0.5713\n",
      "Epoch 4/50\n",
      "24/24 - 0s - 10ms/step - accuracy: 0.7167 - loss: 0.5434\n",
      "Epoch 5/50\n",
      "24/24 - 1s - 27ms/step - accuracy: 0.7520 - loss: 0.5125\n",
      "Epoch 6/50\n",
      "24/24 - 1s - 26ms/step - accuracy: 0.7702 - loss: 0.4768\n",
      "Epoch 7/50\n",
      "24/24 - 0s - 8ms/step - accuracy: 0.8081 - loss: 0.4497\n",
      "Epoch 8/50\n",
      "24/24 - 0s - 9ms/step - accuracy: 0.8146 - loss: 0.4126\n",
      "Epoch 9/50\n",
      "24/24 - 0s - 6ms/step - accuracy: 0.8499 - loss: 0.3705\n",
      "Epoch 10/50\n",
      "24/24 - 0s - 6ms/step - accuracy: 0.8695 - loss: 0.3398\n",
      "Epoch 11/50\n",
      "24/24 - 0s - 8ms/step - accuracy: 0.8734 - loss: 0.3206\n",
      "Epoch 12/50\n",
      "24/24 - 0s - 8ms/step - accuracy: 0.9086 - loss: 0.2811\n",
      "Epoch 13/50\n",
      "24/24 - 0s - 8ms/step - accuracy: 0.9099 - loss: 0.2666\n",
      "Epoch 14/50\n",
      "24/24 - 0s - 8ms/step - accuracy: 0.9034 - loss: 0.2625\n",
      "Epoch 15/50\n",
      "24/24 - 0s - 16ms/step - accuracy: 0.9230 - loss: 0.2301\n",
      "Epoch 16/50\n",
      "24/24 - 1s - 24ms/step - accuracy: 0.9386 - loss: 0.2078\n",
      "Epoch 17/50\n",
      "24/24 - 0s - 6ms/step - accuracy: 0.9399 - loss: 0.1936\n",
      "Epoch 18/50\n",
      "24/24 - 0s - 16ms/step - accuracy: 0.9543 - loss: 0.1732\n",
      "Epoch 19/50\n",
      "24/24 - 0s - 7ms/step - accuracy: 0.9634 - loss: 0.1532\n",
      "Epoch 20/50\n",
      "24/24 - 0s - 8ms/step - accuracy: 0.9661 - loss: 0.1404\n",
      "Epoch 21/50\n",
      "24/24 - 0s - 14ms/step - accuracy: 0.9687 - loss: 0.1260\n",
      "Epoch 22/50\n",
      "24/24 - 0s - 8ms/step - accuracy: 0.9739 - loss: 0.1159\n",
      "Epoch 23/50\n",
      "24/24 - 0s - 8ms/step - accuracy: 0.9739 - loss: 0.1099\n",
      "Epoch 24/50\n",
      "24/24 - 0s - 9ms/step - accuracy: 0.9791 - loss: 0.0991\n",
      "Epoch 25/50\n",
      "24/24 - 0s - 9ms/step - accuracy: 0.9830 - loss: 0.0871\n",
      "Epoch 26/50\n",
      "24/24 - 0s - 9ms/step - accuracy: 0.9869 - loss: 0.0791\n",
      "Epoch 27/50\n",
      "24/24 - 0s - 8ms/step - accuracy: 0.9883 - loss: 0.0759\n",
      "Epoch 28/50\n",
      "24/24 - 0s - 7ms/step - accuracy: 0.9883 - loss: 0.0661\n",
      "Epoch 29/50\n",
      "24/24 - 0s - 11ms/step - accuracy: 0.9896 - loss: 0.0608\n",
      "Epoch 30/50\n",
      "24/24 - 0s - 14ms/step - accuracy: 0.9869 - loss: 0.0579\n",
      "Epoch 31/50\n",
      "24/24 - 0s - 10ms/step - accuracy: 0.9896 - loss: 0.0547\n",
      "Epoch 32/50\n",
      "24/24 - 0s - 7ms/step - accuracy: 0.9909 - loss: 0.0475\n",
      "Epoch 33/50\n",
      "24/24 - 0s - 16ms/step - accuracy: 0.9909 - loss: 0.0431\n",
      "Epoch 34/50\n",
      "24/24 - 0s - 7ms/step - accuracy: 0.9909 - loss: 0.0389\n",
      "Epoch 35/50\n",
      "24/24 - 0s - 9ms/step - accuracy: 0.9922 - loss: 0.0367\n",
      "Epoch 36/50\n",
      "24/24 - 0s - 7ms/step - accuracy: 0.9922 - loss: 0.0326\n",
      "Epoch 37/50\n",
      "24/24 - 0s - 7ms/step - accuracy: 0.9948 - loss: 0.0300\n",
      "Epoch 38/50\n",
      "24/24 - 0s - 7ms/step - accuracy: 0.9935 - loss: 0.0274\n",
      "Epoch 39/50\n",
      "24/24 - 0s - 6ms/step - accuracy: 0.9948 - loss: 0.0260\n",
      "Epoch 40/50\n",
      "24/24 - 0s - 7ms/step - accuracy: 0.9948 - loss: 0.0243\n",
      "Epoch 41/50\n",
      "24/24 - 0s - 7ms/step - accuracy: 0.9974 - loss: 0.0217\n",
      "Epoch 42/50\n",
      "24/24 - 0s - 7ms/step - accuracy: 0.9974 - loss: 0.0204\n",
      "Epoch 43/50\n",
      "24/24 - 0s - 7ms/step - accuracy: 0.9974 - loss: 0.0178\n",
      "Epoch 44/50\n",
      "24/24 - 0s - 6ms/step - accuracy: 0.9987 - loss: 0.0161\n",
      "Epoch 45/50\n",
      "24/24 - 0s - 6ms/step - accuracy: 0.9987 - loss: 0.0150\n",
      "Epoch 46/50\n",
      "24/24 - 0s - 5ms/step - accuracy: 0.9987 - loss: 0.0146\n",
      "Epoch 47/50\n",
      "24/24 - 0s - 6ms/step - accuracy: 0.9974 - loss: 0.0127\n",
      "Epoch 48/50\n",
      "24/24 - 0s - 5ms/step - accuracy: 1.0000 - loss: 0.0116\n",
      "Epoch 49/50\n",
      "24/24 - 0s - 6ms/step - accuracy: 0.9987 - loss: 0.0109\n",
      "Epoch 50/50\n",
      "24/24 - 0s - 7ms/step - accuracy: 1.0000 - loss: 0.0103\n"
     ]
    },
    {
     "data": {
      "text/plain": [
       "<keras.src.callbacks.history.History at 0x259fa201e80>"
      ]
     },
     "execution_count": 86,
     "metadata": {},
     "output_type": "execute_result"
    }
   ],
   "source": [
    "# Fit the Model\n",
    "model.fit(X_train, y_train, epochs=50, verbose=2)"
   ]
  },
  {
   "cell_type": "markdown",
   "metadata": {},
   "source": [
    "## Step 3: Make Predictions\n",
    "\n",
    "Now load your saved model and use it to make predictions on a few random rows in the test dataset. Check if the predictions are correct."
   ]
  },
  {
   "cell_type": "code",
   "execution_count": 99,
   "metadata": {},
   "outputs": [
    {
     "name": "stdout",
     "output_type": "stream",
     "text": [
      "\u001b[1m6/6\u001b[0m \u001b[32m━━━━━━━━━━━━━━━━━━━━\u001b[0m\u001b[37m\u001b[0m \u001b[1m0s\u001b[0m 4ms/step \n",
      "<class 'numpy.ndarray'>\n",
      "<class 'pandas.core.series.Series'>\n"
     ]
    }
   ],
   "source": [
    "# your code here\n",
    "\n",
    "# Make Predictions\n",
    "y_pred = model.predict(X_test)\n",
    "\n",
    "print(type(y_pred))\n",
    "print(type(y_test))\n"
   ]
  },
  {
   "cell_type": "code",
   "execution_count": 100,
   "metadata": {},
   "outputs": [
    {
     "data": {
      "text/plain": [
       "' from sklearn.metrics import accuracy_score, precision_score, recall_score, f1_score\\n\\nprint(\"Accuracy:\", accuracy_score(y_test, y_pred))\\nprint(\"Precision:\", precision_score(y_test, y_pred))\\nprint(\"Recall:\", recall_score(y_test, y_pred))\\nprint(\"F1-Score:\", f1_score(y_test, y_pred)) '"
      ]
     },
     "execution_count": 100,
     "metadata": {},
     "output_type": "execute_result"
    }
   ],
   "source": [
    "\"\"\" from sklearn.metrics import accuracy_score, precision_score, recall_score, f1_score\n",
    "\n",
    "print(\"Accuracy:\", accuracy_score(y_test, y_pred))\n",
    "print(\"Precision:\", precision_score(y_test, y_pred))\n",
    "print(\"Recall:\", recall_score(y_test, y_pred))\n",
    "print(\"F1-Score:\", f1_score(y_test, y_pred)) \"\"\""
   ]
  },
  {
   "cell_type": "markdown",
   "metadata": {},
   "source": [
    "## Step 4: Improve Your Model\n",
    "\n",
    "Did your model achieve low loss (<0.1) and high accuracy (>0.95)? If not, try to improve your model.\n",
    "\n",
    "But how? There are so many things you can play with in Tensorflow and in the next challenge you'll learn about these things. But in this challenge, let's just do a few things to see if they will help.\n",
    "\n",
    "* Add more layers to your model. If the data are complex you need more layers. But don't use more layers than you need. If adding more layers does not improve the model performance you don't need additional layers.\n",
    "* Adjust the learning rate when you compile the model. This means you will create a custom `tf.keras.optimizers.Adam` instance where you specify the learning rate you want. Then pass the instance to `model.compile` as the optimizer.\n",
    "    * `tf.keras.optimizers.Adam` [reference](https://www.tensorflow.org/api_docs/python/tf/keras/optimizers/Adam).\n",
    "    * Don't worry if you don't understand what the learning rate does. You'll learn about it in the next challenge.\n",
    "* Adjust the number of epochs when you fit the training data to the model. Your model performance continues to improve as you train more epochs. But eventually it will reach the ceiling and the performance will stay the same."
   ]
  },
  {
   "cell_type": "code",
   "execution_count": 77,
   "metadata": {},
   "outputs": [],
   "source": [
    "# HOW TO IMPROVE THE MODEL!\n",
    "\n",
    "# Adjusting the LEARNING RATE for the model \n",
    "\n",
    "from tensorflow.keras.optimizers import Adam\n",
    "\n",
    "# Define customer learning rate\n",
    "learning_rate = 0.01 \n",
    "\n",
    "#Create an instance of the Adam optimizer with the customer learning rate\n",
    "learning_optimizer = Adam(learning_rate=learning_rate)\n",
    "\n",
    "# Define a Sequential Model\n",
    "def sequential_model():\n",
    "    #create model\n",
    "    model = Sequential()\n",
    "    model.add(Dense(64, activation= 'relu', input_shape=(n_cols,)))\n",
    "    model.add(Dense(32, activation= 'relu'))\n",
    "    model.add(Dense(16, activation= 'relu'))\n",
    "    model.add(Dense(2, activation='softmax')) # Output Layer \n",
    "\n",
    "    #compile model\n",
    "    model.compile(optimizer=learning_optimizer, loss='sparse_categorical_crossentropy', metrics = ['accuracy'])  \n",
    "    return model\n"
   ]
  },
  {
   "cell_type": "code",
   "execution_count": 78,
   "metadata": {},
   "outputs": [
    {
     "name": "stderr",
     "output_type": "stream",
     "text": [
      "c:\\Users\\KK\\anaconda3\\Lib\\site-packages\\keras\\src\\layers\\core\\dense.py:87: UserWarning: Do not pass an `input_shape`/`input_dim` argument to a layer. When using Sequential models, prefer using an `Input(shape)` object as the first layer in the model instead.\n",
      "  super().__init__(activity_regularizer=activity_regularizer, **kwargs)\n"
     ]
    },
    {
     "name": "stdout",
     "output_type": "stream",
     "text": [
      "Epoch 1/50\n",
      "24/24 - 9s - 387ms/step - accuracy: 0.6658 - loss: 0.6123\n",
      "Epoch 2/50\n",
      "24/24 - 0s - 14ms/step - accuracy: 0.7010 - loss: 0.5423\n",
      "Epoch 3/50\n",
      "24/24 - 0s - 17ms/step - accuracy: 0.7755 - loss: 0.4448\n",
      "Epoch 4/50\n",
      "24/24 - 1s - 27ms/step - accuracy: 0.8486 - loss: 0.3324\n",
      "Epoch 5/50\n",
      "24/24 - 0s - 17ms/step - accuracy: 0.8969 - loss: 0.2533\n",
      "Epoch 6/50\n",
      "24/24 - 1s - 25ms/step - accuracy: 0.9465 - loss: 0.1682\n",
      "Epoch 7/50\n",
      "24/24 - 0s - 15ms/step - accuracy: 0.9308 - loss: 0.1655\n",
      "Epoch 8/50\n",
      "24/24 - 0s - 11ms/step - accuracy: 0.9726 - loss: 0.0858\n",
      "Epoch 9/50\n",
      "24/24 - 0s - 13ms/step - accuracy: 0.9883 - loss: 0.0512\n",
      "Epoch 10/50\n",
      "24/24 - 0s - 16ms/step - accuracy: 0.9869 - loss: 0.0411\n",
      "Epoch 11/50\n",
      "24/24 - 0s - 12ms/step - accuracy: 0.9856 - loss: 0.0368\n",
      "Epoch 12/50\n",
      "24/24 - 0s - 12ms/step - accuracy: 0.9883 - loss: 0.0316\n",
      "Epoch 13/50\n",
      "24/24 - 0s - 16ms/step - accuracy: 0.9948 - loss: 0.0162\n",
      "Epoch 14/50\n",
      "24/24 - 0s - 13ms/step - accuracy: 0.9974 - loss: 0.0119\n",
      "Epoch 15/50\n",
      "24/24 - 0s - 11ms/step - accuracy: 0.9948 - loss: 0.0204\n",
      "Epoch 16/50\n",
      "24/24 - 0s - 12ms/step - accuracy: 0.9648 - loss: 0.1084\n",
      "Epoch 17/50\n",
      "24/24 - 0s - 12ms/step - accuracy: 0.9804 - loss: 0.0437\n",
      "Epoch 18/50\n",
      "24/24 - 0s - 11ms/step - accuracy: 0.9869 - loss: 0.0275\n",
      "Epoch 19/50\n",
      "24/24 - 0s - 9ms/step - accuracy: 0.9922 - loss: 0.0190\n",
      "Epoch 20/50\n",
      "24/24 - 0s - 14ms/step - accuracy: 0.9883 - loss: 0.0267\n",
      "Epoch 21/50\n",
      "24/24 - 0s - 13ms/step - accuracy: 0.9909 - loss: 0.0205\n",
      "Epoch 22/50\n",
      "24/24 - 1s - 24ms/step - accuracy: 0.9817 - loss: 0.0438\n",
      "Epoch 23/50\n",
      "24/24 - 1s - 35ms/step - accuracy: 0.9896 - loss: 0.0370\n",
      "Epoch 24/50\n",
      "24/24 - 0s - 17ms/step - accuracy: 0.9974 - loss: 0.0199\n",
      "Epoch 25/50\n",
      "24/24 - 1s - 28ms/step - accuracy: 0.9961 - loss: 0.0112\n",
      "Epoch 26/50\n",
      "24/24 - 0s - 14ms/step - accuracy: 1.0000 - loss: 0.0077\n",
      "Epoch 27/50\n",
      "24/24 - 0s - 10ms/step - accuracy: 0.9987 - loss: 0.0056\n",
      "Epoch 28/50\n",
      "24/24 - 0s - 13ms/step - accuracy: 1.0000 - loss: 0.0043\n",
      "Epoch 29/50\n",
      "24/24 - 0s - 10ms/step - accuracy: 1.0000 - loss: 0.0030\n",
      "Epoch 30/50\n",
      "24/24 - 0s - 9ms/step - accuracy: 1.0000 - loss: 0.0020\n",
      "Epoch 31/50\n",
      "24/24 - 0s - 10ms/step - accuracy: 1.0000 - loss: 0.0016\n",
      "Epoch 32/50\n",
      "24/24 - 0s - 14ms/step - accuracy: 1.0000 - loss: 0.0013\n",
      "Epoch 33/50\n",
      "24/24 - 0s - 13ms/step - accuracy: 1.0000 - loss: 0.0012\n",
      "Epoch 34/50\n",
      "24/24 - 0s - 17ms/step - accuracy: 1.0000 - loss: 0.0011\n",
      "Epoch 35/50\n",
      "24/24 - 0s - 18ms/step - accuracy: 1.0000 - loss: 7.7247e-04\n",
      "Epoch 36/50\n",
      "24/24 - 1s - 28ms/step - accuracy: 1.0000 - loss: 6.8579e-04\n",
      "Epoch 37/50\n",
      "24/24 - 0s - 18ms/step - accuracy: 1.0000 - loss: 6.0869e-04\n",
      "Epoch 38/50\n",
      "24/24 - 0s - 16ms/step - accuracy: 1.0000 - loss: 5.3804e-04\n",
      "Epoch 39/50\n",
      "24/24 - 1s - 38ms/step - accuracy: 1.0000 - loss: 4.8134e-04\n",
      "Epoch 40/50\n",
      "24/24 - 1s - 25ms/step - accuracy: 1.0000 - loss: 4.3153e-04\n",
      "Epoch 41/50\n",
      "24/24 - 1s - 28ms/step - accuracy: 1.0000 - loss: 3.8278e-04\n",
      "Epoch 42/50\n",
      "24/24 - 0s - 17ms/step - accuracy: 1.0000 - loss: 3.3970e-04\n",
      "Epoch 43/50\n",
      "24/24 - 1s - 25ms/step - accuracy: 1.0000 - loss: 3.0567e-04\n",
      "Epoch 44/50\n",
      "24/24 - 0s - 15ms/step - accuracy: 1.0000 - loss: 2.7988e-04\n",
      "Epoch 45/50\n",
      "24/24 - 0s - 13ms/step - accuracy: 1.0000 - loss: 2.5413e-04\n",
      "Epoch 46/50\n",
      "24/24 - 0s - 10ms/step - accuracy: 1.0000 - loss: 2.2262e-04\n",
      "Epoch 47/50\n",
      "24/24 - 0s - 9ms/step - accuracy: 1.0000 - loss: 2.0045e-04\n",
      "Epoch 48/50\n",
      "24/24 - 0s - 8ms/step - accuracy: 1.0000 - loss: 1.8631e-04\n",
      "Epoch 49/50\n",
      "24/24 - 0s - 9ms/step - accuracy: 1.0000 - loss: 1.6893e-04\n",
      "Epoch 50/50\n",
      "24/24 - 0s - 9ms/step - accuracy: 1.0000 - loss: 1.5258e-04\n"
     ]
    },
    {
     "data": {
      "text/plain": [
       "<keras.src.callbacks.history.History at 0x259fa1c5340>"
      ]
     },
     "execution_count": 78,
     "metadata": {},
     "output_type": "execute_result"
    }
   ],
   "source": [
    "# Build the Model\n",
    "model = sequential_model()\n",
    "\n",
    "# Fit the Model\n",
    "model.fit(X_train, y_train, epochs=50, verbose=2)\n",
    "\n",
    "# Make Predictions\n",
    "#y_pred = model.predict(X_test)"
   ]
  },
  {
   "cell_type": "markdown",
   "metadata": {},
   "source": [
    "**Which approach(es) did you find helpful to improve your model performance?**"
   ]
  },
  {
   "cell_type": "code",
   "execution_count": null,
   "metadata": {},
   "outputs": [],
   "source": [
    "# your answer here\n",
    "\n",
    "# 1) Adding additional hidden layer - during Model definition\n",
    "# 2) Increasing the neurons (Dense) in each layer - during Model definition\n",
    "# 3) Defining the learning rate - during Model definition\n",
    "# 4) Increasing the epochs - during Model Fit\n",
    "\n",
    "\n",
    "# Check the above for Accuracy and Loss\n",
    "\n",
    "# Having epochs of 25 yields accuracy of 0.9491 and loss of 0.1955 \n",
    "# Having epochs of 50 yields accuracy of 0.9883 and loss of 0.0484 \n",
    "# Adding another layer and having epochs of 50 yields accuracy of 0.99873 and loss of 0.0135 /* Accuracy didn't improve any better after this!\n",
    "# Defining the learning rate (as 0.01) improves the accuracy to 1 and brings down the Loss to almost zero. "
   ]
  }
 ],
 "metadata": {
  "kernelspec": {
   "display_name": "Python 3",
   "language": "python",
   "name": "python3"
  },
  "language_info": {
   "codemirror_mode": {
    "name": "ipython",
    "version": 3
   },
   "file_extension": ".py",
   "mimetype": "text/x-python",
   "name": "python",
   "nbconvert_exporter": "python",
   "pygments_lexer": "ipython3",
   "version": "3.12.3"
  }
 },
 "nbformat": 4,
 "nbformat_minor": 2
}
